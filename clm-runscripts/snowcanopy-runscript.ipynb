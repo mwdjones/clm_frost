{
 "cells": [
  {
   "cell_type": "code",
   "execution_count": 1,
   "id": "0326110c-2bf5-483f-b26d-de1c0faac164",
   "metadata": {},
   "outputs": [],
   "source": [
    "import numpy as np\n",
    "import matplotlib.pyplot as plt\n",
    "from matplotlib import gridspec\n",
    "import pandas as pd\n",
    "import xarray as xr\n",
    "from bayes_opt import BayesianOptimization\n",
    "from bayes_opt import UtilityFunction\n",
    "import time\n",
    "import seaborn as sns\n",
    "from itertools import product\n",
    "from scipy.interpolate import interp2d\n",
    "\n",
    "#ML\n",
    "from sklearn.gaussian_process import GaussianProcessRegressor "
   ]
  },
  {
   "cell_type": "code",
   "execution_count": 2,
   "id": "bf567f03-138d-4ecb-b17c-7f7bac51472b",
   "metadata": {},
   "outputs": [],
   "source": [
    "import warnings\n",
    "warnings.filterwarnings('ignore')"
   ]
  },
  {
   "cell_type": "code",
   "execution_count": 3,
   "id": "c61895f0-98ce-44f8-b444-117020c95344",
   "metadata": {},
   "outputs": [
    {
     "name": "stdout",
     "output_type": "stream",
     "text": [
      "Case does not exist. Creating new case.\n"
     ]
    },
    {
     "name": "stderr",
     "output_type": "stream",
     "text": [
      "/glade/u/home/marielj/clm_frost/cesm_cases/snow-canopy/snowcanopy_clmmodel_s205/env_mach_specific.xml already exists, delete to replace\n"
     ]
    },
    {
     "name": "stdout",
     "output_type": "stream",
     "text": [
      "b\"Setting resource.RLIMIT_STACK to -1 from (307200000, -1)\\njob is case.run USER_REQUESTED_WALLTIME None USER_REQUESTED_QUEUE None WALLTIME_FORMAT %H:%M:%S\\nCreating batch scripts\\nWriting case.run script from input template /glade/u/home/marielj/cesm2.1.3/cime/config/cesm/machines/template.case.run\\nCreating file .case.run\\nWriting case.st_archive script from input template /glade/u/home/marielj/cesm2.1.3/cime/config/cesm/machines/template.st_archive\\nCreating file case.st_archive\\nCreating user_nl_xxx files for components and cpl\\nIf an old case build already exists, might want to run 'case.build --clean' before building\\nYou can now run './preview_run' to get more info on how your case will be run\\n\"\n",
      "Setup complete\n",
      "Mods copied successfully.\n",
      "Case is setup and ready for building.\n"
     ]
    },
    {
     "name": "stderr",
     "output_type": "stream",
     "text": [
      "Traceback (most recent call last):\n",
      "  File \"/ncar/opt/sam/sam_validate.py\", line 117, in <module>\n",
      "    print_shadow_info(user)\n",
      "  File \"/ncar/opt/sam/sam_validate.py\", line 84, in print_shadow_info\n",
      "    print(\"gecos: %s\" % pw.pw_gecos)\n",
      "IOError: [Errno 32] Broken pipe\n"
     ]
    },
    {
     "name": "stdout",
     "output_type": "stream",
     "text": [
      "b'Submitting command to PBS using account UMIN0008:\\n    ./case.build\\n\\nWaiting for job 2856035.chadmin1.ib0.cheyenne.ucar.edu to start ... \\n\\n\\nBuilding case in directory /glade/u/home/marielj/clm_frost/cesm_cases/snow-canopy/snowcanopy_clmmodel_s205\\nsharedlib_only is False\\nmodel_only is False\\nSetting resource.RLIMIT_STACK to -1 from (-1, -1)\\nGenerating component namelists as part of build\\nCreating component namelists\\n   Calling /glade/u/home/marielj/cesm2.1.3/cime/src/components/data_comps/datm/cime_config/buildnml\\n   Calling /glade/u/home/marielj/cesm2.1.3/components/clm//cime_config/buildnml\\n   Calling /glade/u/home/marielj/cesm2.1.3/cime/src/components/stub_comps/sice/cime_config/buildnml\\n   Calling /glade/u/home/marielj/cesm2.1.3/cime/src/components/stub_comps/socn/cime_config/buildnml\\n   Calling /glade/u/home/marielj/cesm2.1.3/components/mosart//cime_config/buildnml\\n   Calling /glade/u/home/marielj/cesm2.1.3/cime/src/components/stub_comps/sglc/cime_config/buildnml\\n   Calling /glade/u/home/marielj/cesm2.1.3/cime/src/components/stub_comps/swav/cime_config/buildnml\\n   Calling /glade/u/home/marielj/cesm2.1.3/cime/src/components/stub_comps/sesp/cime_config/buildnml\\n   Calling /glade/u/home/marielj/cesm2.1.3/cime/src/drivers/mct/cime_config/buildnml\\nFinished creating component namelists\\nBuilding gptl with output to file /glade/scratch/marielj/snowcanopy_clmmodel_s205/bld/gptl.bldlog.230825-102320\\n   Calling /glade/u/home/marielj/cesm2.1.3/cime/src/build_scripts/buildlib.gptl\\nBuilding mct with output to file /glade/scratch/marielj/snowcanopy_clmmodel_s205/bld/mct.bldlog.230825-102320\\n   Calling /glade/u/home/marielj/cesm2.1.3/cime/src/build_scripts/buildlib.mct\\nBuilding pio with output to file /glade/scratch/marielj/snowcanopy_clmmodel_s205/bld/pio.bldlog.230825-102320\\n   Calling /glade/u/home/marielj/cesm2.1.3/cime/src/build_scripts/buildlib.pio\\nComponent pio build complete with 2 warnings\\nBuilding csm_share with output to file /glade/scratch/marielj/snowcanopy_clmmodel_s205/bld/csm_share.bldlog.230825-102320\\n   Calling /glade/u/home/marielj/cesm2.1.3/cime/src/build_scripts/buildlib.csm_share\\nComponent csm_share build complete with 20 warnings\\n         - Building clm4_5/clm5_0 Library \\nBuilding lnd with output to /glade/scratch/marielj/snowcanopy_clmmodel_s205/bld/lnd.bldlog.230825-102320\\nComponent lnd build complete with 6 warnings\\nclm built in 196.002350 seconds\\nBuilding atm with output to /glade/scratch/marielj/snowcanopy_clmmodel_s205/bld/atm.bldlog.230825-102320\\nBuilding ice with output to /glade/scratch/marielj/snowcanopy_clmmodel_s205/bld/ice.bldlog.230825-102320\\nBuilding ocn with output to /glade/scratch/marielj/snowcanopy_clmmodel_s205/bld/ocn.bldlog.230825-102320\\nBuilding rof with output to /glade/scratch/marielj/snowcanopy_clmmodel_s205/bld/rof.bldlog.230825-102320\\nBuilding glc with output to /glade/scratch/marielj/snowcanopy_clmmodel_s205/bld/glc.bldlog.230825-102320\\nBuilding wav with output to /glade/scratch/marielj/snowcanopy_clmmodel_s205/bld/wav.bldlog.230825-102320\\nBuilding esp with output to /glade/scratch/marielj/snowcanopy_clmmodel_s205/bld/esp.bldlog.230825-102320\\nsocn built in 10.510146 seconds\\nsice built in 10.934227 seconds\\nsesp built in 11.388056 seconds\\nsglc built in 11.795349 seconds\\nswav built in 12.031397 seconds\\ndatm built in 15.903791 seconds\\nmosart built in 37.265098 seconds\\nBuilding cesm with output to /glade/scratch/marielj/snowcanopy_clmmodel_s205/bld/cesm.bldlog.230825-102320 \\nTime spent not building: 2.333280 sec\\nTime spent building: 531.283196 sec\\nMODEL BUILD HAS FINISHED SUCCESSFULLY\\n'\n",
      "Case is built and ready to run.\n"
     ]
    }
   ],
   "source": [
    "'''CLM CASE'''\n",
    "from clmmodtools import *\n",
    "\n",
    "#setup case\n",
    "CASE_NAME = 'snowcanopy_clmmodel_s205'\n",
    "setup_mef_case('/glade/u/home/marielj/clm_frost/cesm_cases/snow-canopy', CASE_NAME, MODS = True, nyears = 5)\n",
    "CASE_DIR = '/glade/u/home/marielj/clm_frost/cesm_cases/snow-canopy/' + 'CASE_NAME'"
   ]
  },
  {
   "cell_type": "code",
   "execution_count": null,
   "id": "6aca6401-1b71-4627-bf8b-9b1b0fd47e03",
   "metadata": {},
   "outputs": [],
   "source": []
  }
 ],
 "metadata": {
  "kernelspec": {
   "display_name": "Python [conda env:ncdf]",
   "language": "python",
   "name": "conda-env-ncdf-py"
  },
  "language_info": {
   "codemirror_mode": {
    "name": "ipython",
    "version": 3
   },
   "file_extension": ".py",
   "mimetype": "text/x-python",
   "name": "python",
   "nbconvert_exporter": "python",
   "pygments_lexer": "ipython3",
   "version": "3.9.15"
  }
 },
 "nbformat": 4,
 "nbformat_minor": 5
}
