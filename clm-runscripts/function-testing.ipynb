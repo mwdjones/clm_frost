{
 "cells": [
  {
   "cell_type": "code",
   "execution_count": 1,
   "id": "1796eca9-bbda-4f07-bfcc-280bf3cdb0e9",
   "metadata": {},
   "outputs": [],
   "source": [
    "from clmmodtools import *"
   ]
  },
  {
   "cell_type": "code",
   "execution_count": null,
   "id": "1f0c67fa-2568-48cf-958b-95164860b639",
   "metadata": {},
   "outputs": [],
   "source": [
    "'''Test changing single parameter value'''\n",
    "\n",
    "target_param_file = '/glade/work/marielj/inputdata/lnd/clm2/paramdata/clm5_params_augmented_base.c171117.nc'\n",
    "target_param = 'fff'\n",
    "target_param_value = 0.2\n",
    "\n",
    "#Test change\n",
    "change_param(target_param, target_param_value, target_param_file)\n",
    "#change back to OG value\n",
    "change_param(target_param, 0.5, target_param_file)"
   ]
  },
  {
   "cell_type": "code",
   "execution_count": null,
   "id": "736a66dd-1c2c-4c32-8b20-54ecf6380795",
   "metadata": {},
   "outputs": [],
   "source": [
    "'''Test changing pft parameter value'''\n",
    "\n",
    "target_param = 'slatop'\n",
    "target_param_value = 0.2\n",
    "\n",
    "#Test change\n",
    "change_pft_param(target_param, 12, target_param_value, target_param_file)\n",
    "#change back to OG value\n",
    "change_pft_param(target_param, 12, 0.04024, target_param_file)"
   ]
  },
  {
   "cell_type": "code",
   "execution_count": 2,
   "id": "1b39fcf8-c5f8-4c2f-8445-4a43eea1950a",
   "metadata": {},
   "outputs": [
    {
     "name": "stdout",
     "output_type": "stream",
     "text": [
      "Case does not exist. Creating new case.\n"
     ]
    },
    {
     "name": "stderr",
     "output_type": "stream",
     "text": [
      "/glade/u/home/marielj/clm_frost/cesm_cases/bayesopt/testing_casesetup/env_mach_specific.xml already exists, delete to replace\n"
     ]
    },
    {
     "name": "stdout",
     "output_type": "stream",
     "text": [
      "b\"Setting resource.RLIMIT_STACK to -1 from (307200000, -1)\\njob is case.run USER_REQUESTED_WALLTIME None USER_REQUESTED_QUEUE None WALLTIME_FORMAT %H:%M:%S\\nCreating batch scripts\\nWriting case.run script from input template /glade/u/home/marielj/cesm2.1.3/cime/config/cesm/machines/template.case.run\\nCreating file .case.run\\nWriting case.st_archive script from input template /glade/u/home/marielj/cesm2.1.3/cime/config/cesm/machines/template.st_archive\\nCreating file case.st_archive\\nCreating user_nl_xxx files for components and cpl\\nIf an old case build already exists, might want to run 'case.build --clean' before building\\nYou can now run './preview_run' to get more info on how your case will be run\\n\"\n",
      "Setup complete\n",
      "Mods copied successfully.\n",
      "Case is setup and ready for building.\n"
     ]
    }
   ],
   "source": [
    "'''Test case setup'''\n",
    "\n",
    "setup_mef_case('/glade/u/home/marielj/clm_frost/cesm_cases/bayesopt/', 'testing_casesetup', MODS = True, nyears = 2)"
   ]
  },
  {
   "cell_type": "code",
   "execution_count": null,
   "id": "ff79a9af-85a4-4c80-89ba-28c901c95a4c",
   "metadata": {},
   "outputs": [],
   "source": []
  }
 ],
 "metadata": {
  "kernelspec": {
   "display_name": "Python [conda env:ncdf]",
   "language": "python",
   "name": "conda-env-ncdf-py"
  },
  "language_info": {
   "codemirror_mode": {
    "name": "ipython",
    "version": 3
   },
   "file_extension": ".py",
   "mimetype": "text/x-python",
   "name": "python",
   "nbconvert_exporter": "python",
   "pygments_lexer": "ipython3",
   "version": "3.9.15"
  }
 },
 "nbformat": 4,
 "nbformat_minor": 5
}
