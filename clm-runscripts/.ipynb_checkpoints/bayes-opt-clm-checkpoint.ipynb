{
 "cells": [
  {
   "cell_type": "code",
   "execution_count": 1,
   "id": "9dfb3142-67c7-41db-ad16-9623da4ab92b",
   "metadata": {},
   "outputs": [],
   "source": [
    "import numpy as np\n",
    "import matplotlib.pyplot as plt\n",
    "from matplotlib import gridspec\n",
    "import pandas as pd\n",
    "import xarray as xr\n",
    "from bayes_opt import BayesianOptimization\n",
    "from bayes_opt import UtilityFunction\n",
    "import time\n",
    "import seaborn as sns\n",
    "from itertools import product\n",
    "from scipy.interpolate import interp2d\n",
    "\n",
    "#ML\n",
    "from sklearn.gaussian_process import GaussianProcessRegressor "
   ]
  },
  {
   "cell_type": "code",
   "execution_count": 2,
   "id": "e8765cdc-747a-4d3d-8894-f2d0af345384",
   "metadata": {},
   "outputs": [],
   "source": [
    "import warnings\n",
    "warnings.filterwarnings('ignore')"
   ]
  },
  {
   "cell_type": "code",
   "execution_count": 13,
   "id": "ea418dc1-0d43-4f72-acd7-4335753eae4a",
   "metadata": {
    "tags": []
   },
   "outputs": [
    {
     "name": "stdout",
     "output_type": "stream",
     "text": [
      "Case does not exist. Creating new case.\n"
     ]
    },
    {
     "name": "stderr",
     "output_type": "stream",
     "text": [
      "Could not find machine match for 'dec2440.hsn.de.hpc.ucar.edu' or 'dec2440'\n",
      "ERROR: Could not initialize machine object from /glade/u/home/marielj/cesm2.1.3/cime/config/cesm/machines/config_machines.xml or /glade/u/home/marielj/.cime/config_machines.xml\n"
     ]
    },
    {
     "ename": "CalledProcessError",
     "evalue": "Command '['./create_newcase', '--case=/glade/u/home/marielj/clm_frost/cesm_cases/bayesopt/testing_bayesopt_nobuild_derecho', '--compset=2000_DATM%1PT_CLM50%SP_SICE_SOCN_MOSART_SGLC_SWAV', '--user-mods-dir=/glade/u/home/marielj/cesm2.1.3/components/clm/tools/PTCLM/mydatafiles/1x1pt_US-MBP', '--res=CLM_USRDAT', '--project=UMIN0008', '--run-unsupported', '--handle-preexisting-dirs=r']' returned non-zero exit status 1.",
     "output_type": "error",
     "traceback": [
      "\u001b[0;31m---------------------------------------------------------------------------\u001b[0m",
      "\u001b[0;31mCalledProcessError\u001b[0m                        Traceback (most recent call last)",
      "Cell \u001b[0;32mIn[13], line 6\u001b[0m\n\u001b[1;32m      4\u001b[0m \u001b[38;5;66;03m#setup case\u001b[39;00m\n\u001b[1;32m      5\u001b[0m CASE_NAME \u001b[38;5;241m=\u001b[39m \u001b[38;5;124m'\u001b[39m\u001b[38;5;124mtesting_bayesopt_nobuild_derecho\u001b[39m\u001b[38;5;124m'\u001b[39m\n\u001b[0;32m----> 6\u001b[0m \u001b[43msetup_mef_case\u001b[49m\u001b[43m(\u001b[49m\u001b[38;5;124;43m'\u001b[39;49m\u001b[38;5;124;43m/glade/u/home/marielj/clm_frost/cesm_cases/bayesopt\u001b[39;49m\u001b[38;5;124;43m'\u001b[39;49m\u001b[43m,\u001b[49m\u001b[43m \u001b[49m\u001b[43mCASE_NAME\u001b[49m\u001b[43m,\u001b[49m\u001b[43m \u001b[49m\u001b[43mMODS\u001b[49m\u001b[43m \u001b[49m\u001b[38;5;241;43m=\u001b[39;49m\u001b[43m \u001b[49m\u001b[38;5;28;43;01mTrue\u001b[39;49;00m\u001b[43m,\u001b[49m\u001b[43m \u001b[49m\u001b[43mnyears\u001b[49m\u001b[43m \u001b[49m\u001b[38;5;241;43m=\u001b[39;49m\u001b[43m \u001b[49m\u001b[38;5;241;43m7\u001b[39;49m\u001b[43m)\u001b[49m\n\u001b[1;32m      7\u001b[0m CASE_DIR \u001b[38;5;241m=\u001b[39m \u001b[38;5;124m'\u001b[39m\u001b[38;5;124m/glade/u/home/marielj/clm_frost/cesm_cases/bayesopt/\u001b[39m\u001b[38;5;124m'\u001b[39m \u001b[38;5;241m+\u001b[39m CASE_NAME\n",
      "File \u001b[0;32m~/clm_frost/clm-runscripts/clmmodtools.py:152\u001b[0m, in \u001b[0;36msetup_mef_case\u001b[0;34m(CASEROOT_DIR, CASE_NAME, MODS, nyears, BUILD)\u001b[0m\n\u001b[1;32m    150\u001b[0m     \u001b[38;5;66;03m#Create case\u001b[39;00m\n\u001b[1;32m    151\u001b[0m     os\u001b[38;5;241m.\u001b[39mchdir(CIMEROOT_DIR \u001b[38;5;241m+\u001b[39m \u001b[38;5;124m'\u001b[39m\u001b[38;5;124m/scripts\u001b[39m\u001b[38;5;124m'\u001b[39m)\n\u001b[0;32m--> 152\u001b[0m     \u001b[43msubprocess\u001b[49m\u001b[38;5;241;43m.\u001b[39;49m\u001b[43mcheck_output\u001b[49m\u001b[43m(\u001b[49m\u001b[43m[\u001b[49m\u001b[38;5;124;43m'\u001b[39;49m\u001b[38;5;124;43m./create_newcase\u001b[39;49m\u001b[38;5;124;43m'\u001b[39;49m\u001b[43m,\u001b[49m\n\u001b[1;32m    153\u001b[0m \u001b[43m                    \u001b[49m\u001b[38;5;124;43m'\u001b[39;49m\u001b[38;5;124;43m--case=\u001b[39;49m\u001b[38;5;132;43;01m%s\u001b[39;49;00m\u001b[38;5;124;43m'\u001b[39;49m\u001b[43m \u001b[49m\u001b[38;5;241;43m%\u001b[39;49m\u001b[43m \u001b[49m\u001b[43mCASE_DIR\u001b[49m\u001b[43m,\u001b[49m\n\u001b[1;32m    154\u001b[0m \u001b[43m                    \u001b[49m\u001b[38;5;124;43m'\u001b[39;49m\u001b[38;5;124;43m--compset=\u001b[39;49m\u001b[38;5;132;43;01m%s\u001b[39;49;00m\u001b[38;5;124;43m'\u001b[39;49m\u001b[43m \u001b[49m\u001b[38;5;241;43m%\u001b[39;49m\u001b[43m \u001b[49m\u001b[43mCOMPSET\u001b[49m\u001b[43m,\u001b[49m\n\u001b[1;32m    155\u001b[0m \u001b[43m                    \u001b[49m\u001b[38;5;124;43m'\u001b[39;49m\u001b[38;5;124;43m--user-mods-dir=\u001b[39;49m\u001b[38;5;132;43;01m%s\u001b[39;49;00m\u001b[38;5;124;43m'\u001b[39;49m\u001b[43m \u001b[49m\u001b[38;5;241;43m%\u001b[39;49m\u001b[43m \u001b[49m\u001b[43mUSER_MODS_DIR\u001b[49m\u001b[43m,\u001b[49m\n\u001b[1;32m    156\u001b[0m \u001b[43m                    \u001b[49m\u001b[38;5;124;43m'\u001b[39;49m\u001b[38;5;124;43m--res=CLM_USRDAT\u001b[39;49m\u001b[38;5;124;43m'\u001b[39;49m\u001b[43m,\u001b[49m\u001b[43m \u001b[49m\n\u001b[1;32m    157\u001b[0m \u001b[43m                    \u001b[49m\u001b[38;5;124;43m'\u001b[39;49m\u001b[38;5;124;43m--project=UMIN0008\u001b[39;49m\u001b[38;5;124;43m'\u001b[39;49m\u001b[43m,\u001b[49m\u001b[43m \u001b[49m\n\u001b[1;32m    158\u001b[0m \u001b[43m                    \u001b[49m\u001b[38;5;124;43m'\u001b[39;49m\u001b[38;5;124;43m--run-unsupported\u001b[39;49m\u001b[38;5;124;43m'\u001b[39;49m\u001b[43m,\u001b[49m\n\u001b[1;32m    159\u001b[0m \u001b[43m                    \u001b[49m\u001b[38;5;124;43m'\u001b[39;49m\u001b[38;5;124;43m--handle-preexisting-dirs=r\u001b[39;49m\u001b[38;5;124;43m'\u001b[39;49m\u001b[43m]\u001b[49m\u001b[43m)\u001b[49m\n\u001b[1;32m    160\u001b[0m \u001b[38;5;28;01melse\u001b[39;00m:\n\u001b[1;32m    161\u001b[0m     \u001b[38;5;28mprint\u001b[39m(\u001b[38;5;124m'\u001b[39m\u001b[38;5;124mCase already exists.\u001b[39m\u001b[38;5;124m'\u001b[39m)\n",
      "File \u001b[0;32m/glade/work/marielj/conda-envs/ncdf/lib/python3.9/subprocess.py:424\u001b[0m, in \u001b[0;36mcheck_output\u001b[0;34m(timeout, *popenargs, **kwargs)\u001b[0m\n\u001b[1;32m    421\u001b[0m         empty \u001b[38;5;241m=\u001b[39m \u001b[38;5;124mb\u001b[39m\u001b[38;5;124m'\u001b[39m\u001b[38;5;124m'\u001b[39m\n\u001b[1;32m    422\u001b[0m     kwargs[\u001b[38;5;124m'\u001b[39m\u001b[38;5;124minput\u001b[39m\u001b[38;5;124m'\u001b[39m] \u001b[38;5;241m=\u001b[39m empty\n\u001b[0;32m--> 424\u001b[0m \u001b[38;5;28;01mreturn\u001b[39;00m \u001b[43mrun\u001b[49m\u001b[43m(\u001b[49m\u001b[38;5;241;43m*\u001b[39;49m\u001b[43mpopenargs\u001b[49m\u001b[43m,\u001b[49m\u001b[43m \u001b[49m\u001b[43mstdout\u001b[49m\u001b[38;5;241;43m=\u001b[39;49m\u001b[43mPIPE\u001b[49m\u001b[43m,\u001b[49m\u001b[43m \u001b[49m\u001b[43mtimeout\u001b[49m\u001b[38;5;241;43m=\u001b[39;49m\u001b[43mtimeout\u001b[49m\u001b[43m,\u001b[49m\u001b[43m \u001b[49m\u001b[43mcheck\u001b[49m\u001b[38;5;241;43m=\u001b[39;49m\u001b[38;5;28;43;01mTrue\u001b[39;49;00m\u001b[43m,\u001b[49m\n\u001b[1;32m    425\u001b[0m \u001b[43m           \u001b[49m\u001b[38;5;241;43m*\u001b[39;49m\u001b[38;5;241;43m*\u001b[39;49m\u001b[43mkwargs\u001b[49m\u001b[43m)\u001b[49m\u001b[38;5;241m.\u001b[39mstdout\n",
      "File \u001b[0;32m/glade/work/marielj/conda-envs/ncdf/lib/python3.9/subprocess.py:528\u001b[0m, in \u001b[0;36mrun\u001b[0;34m(input, capture_output, timeout, check, *popenargs, **kwargs)\u001b[0m\n\u001b[1;32m    526\u001b[0m     retcode \u001b[38;5;241m=\u001b[39m process\u001b[38;5;241m.\u001b[39mpoll()\n\u001b[1;32m    527\u001b[0m     \u001b[38;5;28;01mif\u001b[39;00m check \u001b[38;5;129;01mand\u001b[39;00m retcode:\n\u001b[0;32m--> 528\u001b[0m         \u001b[38;5;28;01mraise\u001b[39;00m CalledProcessError(retcode, process\u001b[38;5;241m.\u001b[39margs,\n\u001b[1;32m    529\u001b[0m                                  output\u001b[38;5;241m=\u001b[39mstdout, stderr\u001b[38;5;241m=\u001b[39mstderr)\n\u001b[1;32m    530\u001b[0m \u001b[38;5;28;01mreturn\u001b[39;00m CompletedProcess(process\u001b[38;5;241m.\u001b[39margs, retcode, stdout, stderr)\n",
      "\u001b[0;31mCalledProcessError\u001b[0m: Command '['./create_newcase', '--case=/glade/u/home/marielj/clm_frost/cesm_cases/bayesopt/testing_bayesopt_nobuild_derecho', '--compset=2000_DATM%1PT_CLM50%SP_SICE_SOCN_MOSART_SGLC_SWAV', '--user-mods-dir=/glade/u/home/marielj/cesm2.1.3/components/clm/tools/PTCLM/mydatafiles/1x1pt_US-MBP', '--res=CLM_USRDAT', '--project=UMIN0008', '--run-unsupported', '--handle-preexisting-dirs=r']' returned non-zero exit status 1."
     ]
    }
   ],
   "source": [
    "'''CLM CASE'''\n",
    "from clmmodtools import *\n",
    "\n",
    "#setup case\n",
    "CASE_NAME = 'testing_bayesopt_nobuild_derecho'\n",
    "setup_mef_case('/glade/u/home/marielj/clm_frost/cesm_cases/bayesopt', CASE_NAME, MODS = True, nyears = 7)\n",
    "CASE_DIR = '/glade/u/home/marielj/clm_frost/cesm_cases/bayesopt/' + CASE_NAME"
   ]
  },
  {
   "cell_type": "markdown",
   "id": "b71ccc37-9199-4c3e-9113-67b1fc48a35b",
   "metadata": {
    "jp-MarkdownHeadingCollapsed": true,
    "tags": []
   },
   "source": [
    "## 1D Parameter Tuning"
   ]
  },
  {
   "cell_type": "code",
   "execution_count": null,
   "id": "7ad967e2-770b-439e-ac17-e8f8e4f382ae",
   "metadata": {},
   "outputs": [],
   "source": [
    "#start with single parameter variation [SLATOP]\n",
    "def blackbox_clm(x):\n",
    "    #change parameter in netcdf file\n",
    "    target_param_file = '/glade/work/marielj/inputdata/lnd/clm2/paramdata/clm5_params_augmented_base.c171117.nc'\n",
    "    target_param = 'slatop'\n",
    "    pft = 12 #arctic grass \n",
    "    \n",
    "    change_pft_param(target_param, pft, x, target_param_file)\n",
    "    \n",
    "    os.chdir(CASE_DIR)\n",
    "    \n",
    "    #run case\n",
    "    pipe = subprocess.Popen(['qcmd', '-- ./case.submit'], stdout=subprocess.PIPE)\n",
    "    #result = pipe.communicate()[0]\n",
    "    #print(result)\n",
    "    #print(CASE_NAME + \" Run Complete\")\n",
    "    \n",
    "    #time delay -- check if archived data exists, if not wait 5 more seconds\n",
    "    SCRATCH_DIR = '/glade/scratch/marielj/archive/' + CASE_NAME + '/lnd/hist/'\n",
    "    while(not os.path.exists(SCRATCH_DIR + CASE_NAME + '.clm2.h1.2011-01-01-00000.nc')):\n",
    "        time.sleep(5)\n",
    "    \n",
    "    #find WTE data in scracth directory\n",
    "    os.chdir(SCRATCH_DIR)\n",
    "    \n",
    "    #Open data h1 data file\n",
    "    dat = xr.load_dataset(CASE_NAME + '.clm2.h1.2011-01-01-00000.nc')\n",
    "    mean_wtd = -np.mean(dat.ZWT.values)\n",
    "    #remove data\n",
    "    os.remove(CASE_NAME + '.clm2.h1.2011-01-01-00000.nc')\n",
    "    \n",
    "    #mean_wte = np.double(416.000) - mean_wtd\n",
    "    \n",
    "    #return average annual WTE\n",
    "    return mean_wtd"
   ]
  },
  {
   "cell_type": "code",
   "execution_count": 17,
   "id": "b904b0c2-9470-4809-ac2c-d2ba06d9a5de",
   "metadata": {},
   "outputs": [],
   "source": [
    "def posterior(optimizer, x_obs, y_obs, grid):\n",
    "    optimizer._gp.fit(x_obs, y_obs)\n",
    "\n",
    "    mu, sigma = optimizer._gp.predict(grid, return_std=True)\n",
    "    return mu, sigma"
   ]
  },
  {
   "cell_type": "code",
   "execution_count": 18,
   "id": "a9a4af27-8725-463a-9be8-6ca27869c965",
   "metadata": {
    "tags": []
   },
   "outputs": [],
   "source": [
    "def plot_gp_adapted(optimizer, x, param):\n",
    "    fig = plt.figure(figsize=(8, 5))\n",
    "    steps = len(optimizer.space)\n",
    "    fig.suptitle(\n",
    "        'Gaussian Process and Utility Function After {} Steps'.format(steps),\n",
    "        fontdict={'size':30}\n",
    "    )\n",
    "    \n",
    "    #Setup grid\n",
    "    gs = gridspec.GridSpec(2, 1, height_ratios=[3, 1]) \n",
    "    axis = plt.subplot(gs[0])\n",
    "    acq = plt.subplot(gs[1])\n",
    "    \n",
    "    #Observation points \n",
    "    x_obs = np.array([[res[\"params\"][param]] for res in optimizer.res])\n",
    "    y_obs = np.array([res[\"target\"] for res in optimizer.res])\n",
    "    \n",
    "    #Interpolate the confidence interval using skilearn\n",
    "    mu, sigma = posterior(optimizer, x_obs, y_obs, x)\n",
    "    axis.plot(x_obs.flatten(), y_obs, 'D', markersize=8, label=u'Observations', color='r')\n",
    "    axis.plot(x, mu, '--', color='k', label='Prediction')\n",
    "\n",
    "    #Plot the Confidence interval using error from posterior simulation\n",
    "    axis.fill(np.concatenate([x, x[::-1]]), \n",
    "              np.concatenate([mu - 1.9600 * sigma, (mu + 1.9600 * sigma)[::-1]]),\n",
    "        alpha=.6, fc='c', ec='None', label='95% confidence interval')\n",
    "    \n",
    "    axis.set_ylim((None, None))\n",
    "    axis.set_ylabel('Water Table Depth', fontdict={'size':20})\n",
    "    axis.set_xlabel(param, fontdict={'size':20})\n",
    "    \n",
    "    utility_function = UtilityFunction(kind=\"ucb\", kappa = 0.1)\n",
    "    utility = utility_function.utility(x, optimizer._gp, 0)\n",
    "    acq.plot(x, utility, label='Utility Function', color='purple')\n",
    "    acq.plot(x[np.argmax(utility)], np.max(utility), '*', markersize=15, \n",
    "             label=u'Next Best Guess', markerfacecolor='gold', markeredgecolor='k', markeredgewidth=1)\n",
    "    #acq.set_ylim((0, np.max(utility) + 0.5))\n",
    "    acq.set_ylabel('Utility', fontdict={'size':20})\n",
    "    acq.set_xlabel(param, fontdict={'size':20})\n",
    "    \n",
    "    axis.legend(loc=2, bbox_to_anchor=(1.01, 1), borderaxespad=0.)\n",
    "    acq.legend(loc=2, bbox_to_anchor=(1.01, 1), borderaxespad=0.)\n",
    "    \n",
    "    plt.savefig('/glade/u/home/marielj/clm_frost/cesm_cases/bayesopt/figures/bayesopt_' + param + '_1d_probing.pdf')"
   ]
  },
  {
   "cell_type": "markdown",
   "id": "5de60bf0-0926-4da6-9b33-4f7b607d016f",
   "metadata": {
    "tags": []
   },
   "source": [
    "### Probing 1D - SLATOP"
   ]
  },
  {
   "cell_type": "code",
   "execution_count": null,
   "id": "bb43c905-88b3-45b2-ab61-d47d7654cf16",
   "metadata": {
    "tags": []
   },
   "outputs": [],
   "source": [
    "#Declare optimizer\n",
    "clm_optimizer = BayesianOptimization(blackbox_clm, \n",
    "                                    {'x': (0.004, 0.4)}, \n",
    "                                    random_state = 45729, \n",
    "                                    )\n",
    "#Aquisition function\n",
    "acquisition_function = UtilityFunction(kind=\"ucb\", kappa=10)"
   ]
  },
  {
   "cell_type": "code",
   "execution_count": null,
   "id": "599d70fb-c584-4330-8178-ee560cf272bf",
   "metadata": {
    "tags": []
   },
   "outputs": [],
   "source": [
    "for p in np.linspace(0.004, 0.4, 10):\n",
    "    clm_optimizer.probe(\n",
    "        params={\"x\": p},\n",
    "        lazy=True,\n",
    "    )\n",
    "\n",
    "clm_optimizer.maximize(init_points = 0, n_iter = 0)"
   ]
  },
  {
   "cell_type": "code",
   "execution_count": null,
   "id": "e8a77ede-2019-4213-9863-cac2dcce9420",
   "metadata": {
    "tags": []
   },
   "outputs": [],
   "source": [
    "x_slatop = np.linspace(0.004, 0.4, 100).reshape(-1, 1)\n",
    "plot_gp_adapted(clm_optimizer, x_slatop, 'slatop')"
   ]
  },
  {
   "cell_type": "code",
   "execution_count": null,
   "id": "126e71e1-4064-4888-a659-3ba6af0863c5",
   "metadata": {
    "tags": []
   },
   "outputs": [],
   "source": [
    "#Optimize an additional 5 steps from the initial probing\n",
    "clm_optimizer.maximize(init_points = 0, n_iter = 5, aquisition_function = acquisition_function)"
   ]
  },
  {
   "cell_type": "code",
   "execution_count": null,
   "id": "14b02de4-98ad-431d-bbf1-7b34fb6fe52b",
   "metadata": {
    "tags": []
   },
   "outputs": [],
   "source": [
    "#Plot\n",
    "plot_gp_adapted(clm_optimizer, x_slatop, 'slatop')"
   ]
  },
  {
   "cell_type": "markdown",
   "id": "a43774c8-3d07-4a5e-87b7-f54668ac8444",
   "metadata": {
    "jp-MarkdownHeadingCollapsed": true,
    "tags": []
   },
   "source": [
    "### Probing 1D - FROOTLEAF"
   ]
  },
  {
   "cell_type": "code",
   "execution_count": null,
   "id": "23e25e95-7cf0-4b7c-b3a8-29b4d7915c2c",
   "metadata": {},
   "outputs": [],
   "source": [
    "#Set slatop param back to default value\n",
    "change_pft_param('slatop', 12, 0.04024, '/glade/work/marielj/inputdata/lnd/clm2/paramdata/clm5_params_augmented_base.c171117.nc')"
   ]
  },
  {
   "cell_type": "code",
   "execution_count": null,
   "id": "4b25e309-1944-47f1-b46b-f3ea729e5914",
   "metadata": {},
   "outputs": [],
   "source": [
    "def blackbox_clm2(x):\n",
    "    #change parameter in netcdf file\n",
    "    target_param_file = '/glade/work/marielj/inputdata/lnd/clm2/paramdata/clm5_params_augmented_base.c171117.nc'\n",
    "    target_param = 'froot_leaf'\n",
    "    pft = 12 #arctic grass \n",
    "    \n",
    "    change_pft_param(target_param, pft, x, target_param_file)\n",
    "    \n",
    "    os.chdir(CASE_DIR)\n",
    "    \n",
    "    #run case\n",
    "    pipe = subprocess.Popen(['qcmd', '-- ./case.submit'], stdout=subprocess.PIPE)\n",
    "    #result = pipe.communicate()[0]\n",
    "    #print(result)\n",
    "    #print(CASE_NAME + \" Run Complete\")\n",
    "    \n",
    "    #time delay -- check if archived data exists, if not wait 5 more seconds\n",
    "    SCRATCH_DIR = '/glade/scratch/marielj/archive/' + CASE_NAME + '/lnd/hist/'\n",
    "    while(not os.path.exists(SCRATCH_DIR + CASE_NAME + '.clm2.h1.2011-01-01-00000.nc')):\n",
    "        time.sleep(5)\n",
    "    \n",
    "    #find WTE data in scracth directory\n",
    "    os.chdir(SCRATCH_DIR)\n",
    "    \n",
    "    #Open data h1 data file\n",
    "    dat = xr.load_dataset(CASE_NAME + '.clm2.h1.2011-01-01-00000.nc')\n",
    "    mean_wtd = -np.mean(dat.ZWT.values)\n",
    "    #remove data\n",
    "    os.remove(CASE_NAME + '.clm2.h1.2011-01-01-00000.nc')\n",
    "    \n",
    "    #mean_wte = np.double(416.000) - mean_wtd\n",
    "    \n",
    "    #return average annual WTE\n",
    "    return mean_wtd"
   ]
  },
  {
   "cell_type": "code",
   "execution_count": null,
   "id": "9f0100d0-cfc7-423a-83a7-831192e1e65b",
   "metadata": {},
   "outputs": [],
   "source": [
    "#Declare optimizer\n",
    "clm_optimizer_froot = BayesianOptimization(blackbox_clm2, \n",
    "                                    {'x': (0.015, 2.0)}, \n",
    "                                    random_state = 491929, \n",
    "                                    )\n",
    "#Aquisition function\n",
    "acquisition_function_froot = UtilityFunction(kind=\"ucb\", kappa=10)"
   ]
  },
  {
   "cell_type": "code",
   "execution_count": null,
   "id": "cdc9426f-0d8b-4231-9fd4-39c983e5ce57",
   "metadata": {
    "tags": []
   },
   "outputs": [],
   "source": [
    "#Probe\n",
    "for p in np.linspace(0.015, 2.0, 10):\n",
    "    clm_optimizer_froot.probe(\n",
    "        params={\"x\": p},\n",
    "        lazy=True,\n",
    "    )\n",
    "\n",
    "clm_optimizer_froot.maximize(init_points = 0, n_iter = 0)"
   ]
  },
  {
   "cell_type": "code",
   "execution_count": null,
   "id": "1e516ce0-60b9-46d9-a012-cd960a7f25fe",
   "metadata": {
    "tags": []
   },
   "outputs": [],
   "source": [
    "x_frootleaf = np.linspace(0.015, 2.0, 100).reshape(-1, 1)\n",
    "plot_gp_adapted(clm_optimizer_froot, x_frootleaf, 'frootleaf')"
   ]
  },
  {
   "cell_type": "markdown",
   "id": "cd09674a-2b51-47d4-a2e8-b014799a4fe6",
   "metadata": {
    "jp-MarkdownHeadingCollapsed": true,
    "tags": []
   },
   "source": [
    "### Probing 1D - leaf_long"
   ]
  },
  {
   "cell_type": "code",
   "execution_count": null,
   "id": "9434afb0-b32d-4cae-be9b-d139e250aa54",
   "metadata": {},
   "outputs": [],
   "source": [
    "#Set slatop param back to default value\n",
    "change_pft_param('leaf_long', 12, 0.32083, '/glade/work/marielj/inputdata/lnd/clm2/paramdata/clm5_params_augmented_base.c171117.nc')"
   ]
  },
  {
   "cell_type": "code",
   "execution_count": null,
   "id": "059699d2-6e78-42c0-8d8a-f24ae70945f8",
   "metadata": {},
   "outputs": [],
   "source": [
    "def blackbox_clm3(x):\n",
    "    #change parameter in netcdf file\n",
    "    target_param_file = '/glade/work/marielj/inputdata/lnd/clm2/paramdata/clm5_params_augmented_base.c171117.nc'\n",
    "    target_param = 'leaf_long'\n",
    "    pft = 12 #arctic grass \n",
    "    \n",
    "    change_pft_param(target_param, pft, x, target_param_file)\n",
    "    \n",
    "    os.chdir(CASE_DIR)\n",
    "    \n",
    "    #run case\n",
    "    pipe = subprocess.Popen(['qcmd', '-- ./case.submit'], stdout=subprocess.PIPE)\n",
    "    #result = pipe.communicate()[0]\n",
    "    #print(result)\n",
    "    #print(CASE_NAME + \" Run Complete\")\n",
    "    \n",
    "    #time delay -- check if archived data exists, if not wait 5 more seconds\n",
    "    SCRATCH_DIR = '/glade/scratch/marielj/archive/' + CASE_NAME + '/lnd/hist/'\n",
    "    while(not os.path.exists(SCRATCH_DIR + CASE_NAME + '.clm2.h1.2011-01-01-00000.nc')):\n",
    "        time.sleep(5)\n",
    "    \n",
    "    #find WTE data in scracth directory\n",
    "    os.chdir(SCRATCH_DIR)\n",
    "    \n",
    "    #Open data h1 data file\n",
    "    dat = xr.load_dataset(CASE_NAME + '.clm2.h1.2011-01-01-00000.nc')\n",
    "    mean_wtd = -np.mean(dat.ZWT.values)\n",
    "    #remove data\n",
    "    os.remove(CASE_NAME + '.clm2.h1.2011-01-01-00000.nc')\n",
    "    \n",
    "    #mean_wte = np.double(416.000) - mean_wtd\n",
    "    \n",
    "    #return average annual WTE\n",
    "    return mean_wtd"
   ]
  },
  {
   "cell_type": "code",
   "execution_count": null,
   "id": "bde04c14-bded-40c4-939b-1f6d04a574b9",
   "metadata": {},
   "outputs": [],
   "source": [
    "#Declare optimizer\n",
    "clm_optimizer_leaflong = BayesianOptimization(blackbox_clm3, \n",
    "                                    {'x': (0.30, 2.0)}, \n",
    "                                    random_state = 48193, \n",
    "                                    )\n",
    "#Aquisition function\n",
    "acquisition_function_leaflong = UtilityFunction(kind=\"ucb\", kappa=10)"
   ]
  },
  {
   "cell_type": "code",
   "execution_count": null,
   "id": "1898c1ba-1c1d-4c77-81fd-8a2b27cb8a0a",
   "metadata": {
    "tags": []
   },
   "outputs": [],
   "source": [
    "#Probe\n",
    "for p in np.linspace(0.30, 2.0, 10):\n",
    "    clm_optimizer_leaflong.probe(\n",
    "        params={\"x\": p},\n",
    "        lazy=True,\n",
    "    )\n",
    "\n",
    "clm_optimizer_leaflong.maximize(init_points = 0, n_iter = 0)"
   ]
  },
  {
   "cell_type": "code",
   "execution_count": null,
   "id": "8e2f6ca2-ab6c-4d90-b736-3dcd12b6b6c1",
   "metadata": {
    "tags": []
   },
   "outputs": [],
   "source": [
    "x_leaflong = np.linspace(0.30, 2.0, 10).reshape(-1, 1)\n",
    "plot_gp_adapted(clm_optimizer_leaflong, x_leaflong, 'leaflong')"
   ]
  },
  {
   "cell_type": "markdown",
   "id": "ff1d2396-8867-4105-83c6-64b10d1e8aad",
   "metadata": {
    "jp-MarkdownHeadingCollapsed": true,
    "tags": []
   },
   "source": [
    "### Probing 1D - fover (fff)"
   ]
  },
  {
   "cell_type": "code",
   "execution_count": null,
   "id": "d366328a",
   "metadata": {},
   "outputs": [],
   "source": [
    "#Set slatop param back to default value\n",
    "change_pft_param('leaf_long', 12, 0.32083, '/glade/work/marielj/inputdata/lnd/clm2/paramdata/clm5_params_augmented_base.c171117.nc')"
   ]
  },
  {
   "cell_type": "code",
   "execution_count": null,
   "id": "4ce8fd8e-39fb-4839-b4ab-bb2fa9385808",
   "metadata": {},
   "outputs": [],
   "source": [
    "def blackbox_clm4(x):\n",
    "    #change parameter in netcdf file\n",
    "    target_param_file = '/glade/work/marielj/inputdata/lnd/clm2/paramdata/clm5_params_augmented_base.c171117.nc'\n",
    "    target_param = 'fff'\n",
    "    pft = 12 #arctic grass \n",
    "    \n",
    "    change_param(target_param, x, target_param_file)\n",
    "    \n",
    "    os.chdir(CASE_DIR)\n",
    "    \n",
    "    #run case\n",
    "    pipe = subprocess.Popen(['qcmd', '-- ./case.submit'], stdout=subprocess.PIPE)\n",
    "    #result = pipe.communicate()[0]\n",
    "    #print(result)\n",
    "    #print(CASE_NAME + \" Run Complete\")\n",
    "    \n",
    "    #time delay -- check if archived data exists, if not wait 5 more seconds\n",
    "    SCRATCH_DIR = '/glade/scratch/marielj/archive/' + CASE_NAME + '/lnd/hist/'\n",
    "    while(not os.path.exists(SCRATCH_DIR + CASE_NAME + '.clm2.h1.2011-01-01-00000.nc')):\n",
    "        time.sleep(5)\n",
    "    \n",
    "    #find WTE data in scracth directory\n",
    "    os.chdir(SCRATCH_DIR)\n",
    "    \n",
    "    #Open data h1 data file\n",
    "    dat = xr.load_dataset(CASE_NAME + '.clm2.h1.2011-01-01-00000.nc')\n",
    "    mean_wtd = -np.mean(dat.ZWT.values)\n",
    "    #remove data\n",
    "    os.remove(CASE_NAME + '.clm2.h1.2011-01-01-00000.nc')\n",
    "    \n",
    "    #mean_wte = np.double(416.000) - mean_wtd\n",
    "    \n",
    "    #return average annual WTE\n",
    "    return mean_wtd"
   ]
  },
  {
   "cell_type": "code",
   "execution_count": null,
   "id": "4e84aaa1-8e2f-4b45-8fcf-b5894d3566f7",
   "metadata": {},
   "outputs": [],
   "source": [
    "#Declare optimizer\n",
    "clm_optimizer_fff = BayesianOptimization(blackbox_clm4, \n",
    "                                    {'x': (0.1, 5.0)}, \n",
    "                                    random_state = 858392, \n",
    "                                    )\n",
    "#Aquisition function\n",
    "acquisition_function_fff = UtilityFunction(kind=\"ucb\", kappa=10)"
   ]
  },
  {
   "cell_type": "code",
   "execution_count": null,
   "id": "d3edde58-1cfc-4dfd-9ba7-71784ac43725",
   "metadata": {
    "tags": []
   },
   "outputs": [],
   "source": [
    "#Probe\n",
    "for p in np.linspace(0.1, 5.0, 10):\n",
    "    clm_optimizer_fff.probe(\n",
    "        params={\"x\": p},\n",
    "        lazy=True,\n",
    "    )\n",
    "\n",
    "clm_optimizer_fff.maximize(init_points = 0, n_iter = 0)"
   ]
  },
  {
   "cell_type": "code",
   "execution_count": null,
   "id": "067f3c9f-11e7-45b8-8b83-6419a2b9ca50",
   "metadata": {
    "tags": []
   },
   "outputs": [],
   "source": [
    "x_fff = np.linspace(0.1, 5.0, 100).reshape(-1, 1)\n",
    "plot_gp_adapted(clm_optimizer_fff, x_fff, 'fover')"
   ]
  },
  {
   "cell_type": "markdown",
   "id": "601d0358-5332-4e0b-ac4d-b0530b4e8f33",
   "metadata": {
    "jp-MarkdownHeadingCollapsed": true,
    "tags": []
   },
   "source": [
    "### Probing 1D - slopebeta"
   ]
  },
  {
   "cell_type": "code",
   "execution_count": null,
   "id": "51853d36-3ea3-4dd8-b463-46a58ebba98d",
   "metadata": {},
   "outputs": [],
   "source": [
    "#Set fover param back to default value\n",
    "change_param('fff', 0.5, '/glade/work/marielj/inputdata/lnd/clm2/paramdata/clm5_params_augmented_base.c171117.nc')"
   ]
  },
  {
   "cell_type": "code",
   "execution_count": null,
   "id": "8fd653ee-95d7-490e-9692-0ac4ec779ebc",
   "metadata": {},
   "outputs": [],
   "source": [
    "def blackbox_clm5(x):\n",
    "    #change parameter in netcdf file\n",
    "    target_param_file = '/glade/work/marielj/inputdata/lnd/clm2/paramdata/clm5_params_augmented_base.c171117.nc'\n",
    "    target_param = 'slopebeta'\n",
    "    pft = 12 #arctic grass \n",
    "    \n",
    "    change_param(target_param, x, target_param_file)\n",
    "    \n",
    "    os.chdir(CASE_DIR)\n",
    "    \n",
    "    #run case\n",
    "    pipe = subprocess.Popen(['qcmd', '-- ./case.submit'], stdout=subprocess.PIPE)\n",
    "    #result = pipe.communicate()[0]\n",
    "    #print(result)\n",
    "    #print(CASE_NAME + \" Run Complete\")\n",
    "    \n",
    "    #time delay -- check if archived data exists, if not wait 5 more seconds\n",
    "    SCRATCH_DIR = '/glade/scratch/marielj/archive/' + CASE_NAME + '/lnd/hist/'\n",
    "    while(not os.path.exists(SCRATCH_DIR + CASE_NAME + '.clm2.h1.2011-01-01-00000.nc')):\n",
    "        time.sleep(5)\n",
    "    \n",
    "    #find WTE data in scracth directory\n",
    "    os.chdir(SCRATCH_DIR)\n",
    "    \n",
    "    #Open data h1 data file\n",
    "    dat = xr.load_dataset(CASE_NAME + '.clm2.h1.2011-01-01-00000.nc')\n",
    "    mean_wtd = -np.mean(dat.ZWT.values)\n",
    "    #remove data\n",
    "    os.remove(CASE_NAME + '.clm2.h1.2011-01-01-00000.nc')\n",
    "    \n",
    "    #mean_wte = np.double(416.000) - mean_wtd\n",
    "    \n",
    "    #return average annual WTE\n",
    "    return mean_wtd"
   ]
  },
  {
   "cell_type": "code",
   "execution_count": null,
   "id": "ad06bdfd-118e-41e3-b5d3-2f5b9fb86f44",
   "metadata": {},
   "outputs": [],
   "source": [
    "#Declare optimizer\n",
    "clm_optimizer_slopebeta = BayesianOptimization(blackbox_clm5, \n",
    "                                    {'x': (-1000, 10)}, \n",
    "                                    random_state = 589320, \n",
    "                                    )\n",
    "#Aquisition function\n",
    "acquisition_function_slopebeta = UtilityFunction(kind=\"ucb\", kappa=10)"
   ]
  },
  {
   "cell_type": "code",
   "execution_count": null,
   "id": "143093cb-831e-48b5-b731-5a86db671b3a",
   "metadata": {
    "tags": []
   },
   "outputs": [],
   "source": [
    "#Probe\n",
    "for p in np.linspace(-1000, 10, 10):\n",
    "    clm_optimizer_slopebeta.probe(\n",
    "        params={\"x\": p},\n",
    "        lazy=True,\n",
    "    )\n",
    "\n",
    "clm_optimizer_slopebeta.maximize(init_points = 0, n_iter = 0)"
   ]
  },
  {
   "cell_type": "code",
   "execution_count": null,
   "id": "5f8e9140-5844-415b-85f0-9bb50b5ac0f1",
   "metadata": {
    "tags": []
   },
   "outputs": [],
   "source": [
    "x_slopebeta = np.linspace(-1000, 10, 100).reshape(-1, 1)\n",
    "plot_gp_adapted(clm_optimizer_slopebeta, x_slopebeta, 'slopebeta')"
   ]
  },
  {
   "cell_type": "code",
   "execution_count": null,
   "id": "481300ec-42e6-46e8-988a-efa54559126b",
   "metadata": {},
   "outputs": [],
   "source": [
    "#Set slopebeta param back to default value\n",
    "change_param('slopebeta', 3, '/glade/work/marielj/inputdata/lnd/clm2/paramdata/clm5_params_augmented_base.c171117.nc')"
   ]
  },
  {
   "cell_type": "markdown",
   "id": "6cfac509-fe1b-48aa-95a0-31351f9d8131",
   "metadata": {
    "jp-MarkdownHeadingCollapsed": true,
    "tags": []
   },
   "source": [
    "## 2D Parameter Tuning"
   ]
  },
  {
   "cell_type": "code",
   "execution_count": null,
   "id": "71005667-e4f6-4832-bb0f-e25970fe13b8",
   "metadata": {
    "tags": []
   },
   "outputs": [],
   "source": [
    "#setup case\n",
    "CASE_NAME = 'testing_bayesopt_nobuild_2D'\n",
    "setup_mef_case('/glade/u/home/marielj/clm_frost/cesm_cases/bayesopt', CASE_NAME, MODS = True, nyears = 1)\n",
    "CASE_DIR = '/glade/u/home/marielj/clm_frost/cesm_cases/bayesopt/testing_bayesopt_nobuild_2D'"
   ]
  },
  {
   "cell_type": "code",
   "execution_count": null,
   "id": "92fab45d-f710-4bbb-93ad-436e889253a7",
   "metadata": {
    "tags": []
   },
   "outputs": [],
   "source": [
    "def blackbox_clm2D(slopebeta, fff):\n",
    "    #change parameter in netcdf file\n",
    "    target_param_file = '/glade/work/marielj/inputdata/lnd/clm2/paramdata/clm5_params_augmented_base.c171117.nc'\n",
    "    target_param1 = 'slopebeta'\n",
    "    target_param2 = 'fff'\n",
    "    pft = 12 #arctic grass  \n",
    "    \n",
    "    #change slopebeta\n",
    "    change_param(target_param1, slopebeta, target_param_file)\n",
    "    #change fover\n",
    "    change_param(target_param2, fff, target_param_file)\n",
    "    \n",
    "    os.chdir(CASE_DIR)\n",
    "    \n",
    "    #run case\n",
    "    pipe = subprocess.Popen(['qcmd', '-- ./case.submit'], stdout=subprocess.PIPE)\n",
    "    #result = pipe.communicate()[0]\n",
    "    #print(result)\n",
    "    #print(CASE_NAME + \" Run Complete\")\n",
    "    \n",
    "    #time delay -- check if archived data exists, if not wait 5 more seconds\n",
    "    SCRATCH_DIR = '/glade/scratch/marielj/archive/' + CASE_NAME + '/lnd/hist/'\n",
    "    while(not os.path.exists(SCRATCH_DIR + CASE_NAME + '.clm2.h1.2011-01-01-00000.nc')):\n",
    "        time.sleep(5)\n",
    "    \n",
    "    #find WTE data in scracth directory\n",
    "    os.chdir(SCRATCH_DIR)\n",
    "    \n",
    "    #Open data h1 data file\n",
    "    dat = xr.load_dataset(CASE_NAME + '.clm2.h1.2011-01-01-00000.nc')\n",
    "    mean_wtd = -np.mean(dat.ZWT.values)\n",
    "    #remove data\n",
    "    os.remove(CASE_NAME + '.clm2.h1.2011-01-01-00000.nc')\n",
    "    \n",
    "    #return average annual WTE\n",
    "    return mean_wtd"
   ]
  },
  {
   "cell_type": "code",
   "execution_count": null,
   "id": "5529c79b-3b33-44f9-94eb-d3819a1cde24",
   "metadata": {
    "tags": []
   },
   "outputs": [],
   "source": [
    "#Declare optimizer\n",
    "clm_optimizer2D = BayesianOptimization(f = blackbox_clm2D, \n",
    "                                    pbounds = {'slopebeta': (-1000, 10), 'fff': (0.1, 5)}, \n",
    "                                    random_state = 4889, \n",
    "                                    verbose = 0\n",
    "                                    )\n",
    "#Aquisition function\n",
    "acquisition_function2D = UtilityFunction(kind=\"ucb\", kappa=10000)\n",
    "\n",
    "#Optimize\n",
    "clm_optimizer2D.maximize(init_points = 0, n_iter = 5, aquisition_function = acquisition_function2D, allow_duplicate_points=True)"
   ]
  },
  {
   "cell_type": "markdown",
   "id": "62ee79a8-ab13-4b06-8330-a62fa4b082f3",
   "metadata": {
    "jp-MarkdownHeadingCollapsed": true,
    "tags": []
   },
   "source": [
    "## Plot Iterations"
   ]
  },
  {
   "cell_type": "code",
   "execution_count": null,
   "id": "fb185b0e-7d2f-495e-b181-270a5b41aa82",
   "metadata": {
    "tags": []
   },
   "outputs": [],
   "source": [
    "def plot_gp_2D(optimizer, aq, it, param1, param2, param1_min, param1_max, param2_min, param2_max):\n",
    "    #Setup \n",
    "    #Breakdown Data\n",
    "    max_ = optimizer.max\n",
    "    res = optimizer.res[:it]\n",
    "    x_ = np.array([r[\"params\"][param1] for r in res])\n",
    "    y_ = np.array([r[\"params\"][param2] for r in res])\n",
    "    z_ = np.array([r[\"target\"] for r in res])\n",
    "\n",
    "    #Model Results\n",
    "    ser = pd.Series(z_,\n",
    "                      index=[y_, x_])\n",
    "    Z = ser.unstack().fillna(np.nan)\n",
    "\n",
    "    #Range space\n",
    "    x1 = np.linspace(param1_min, param1_max, 100).reshape(-1, 1)\n",
    "    x2 = np.linspace(param2_min, param2_max, 100).reshape(-1, 1)\n",
    "    xmesh, ymesh = np.meshgrid(x1, x2)\n",
    "    xy = np.array(list(zip(xmesh.reshape(10000, 1), ymesh.reshape(10000, 1)))).reshape(10000,2)\n",
    "\n",
    "    #Utility Function\n",
    "    util = aq.utility(xy, optimizer._gp, 0)\n",
    "    \n",
    "    #Plot\n",
    "    fig, axs = plt.subplots(1, 2, constrained_layout=True, figsize=(12,6))\n",
    "\n",
    "    #Axis 1: Function Estimate\n",
    "    mesh1 = axs[0].pcolormesh(Z.columns, Z.index,  Z, cmap=plt.cm.coolwarm)\n",
    "    axs[0].scatter(x_, y_, c='white', s=80, edgecolors='black')\n",
    "    axs[0].scatter(x_, y_, c='red', s=80, edgecolors='black')\n",
    "    axs[0].scatter(max_[\"params\"][param1], max_[\"params\"][param2], s=80, c='green', edgecolors='black')\n",
    "\n",
    "    axs[0].set_title('Function Estimate')\n",
    "    axs[0].set_xlabel(param1)\n",
    "    axs[0].set_ylabel(param2)\n",
    "\n",
    "    axs[0].set_xlim(param1_min, param1_max)\n",
    "    axs[0].set_ylim(param2_min, param2_max)\n",
    "\n",
    "    fig.colorbar(mesh1, location = 'bottom', label = \"Predicted Average Annual WTD\")\n",
    "\n",
    "    #Axis 2: Utility Function\n",
    "    util = acquisition_function2D.utility(xy, clm_optimizer2D._gp, 0)\n",
    "    mesh2 = axs[1].pcolormesh(x1.reshape(100), x2.reshape(100), util.reshape(100,100), cmap = plt.cm.coolwarm)\n",
    "\n",
    "    axs[1].scatter(x_, y_, c='white', s=80, edgecolors='black')\n",
    "    axs[1].scatter(x_, y_, c='red', s=80, edgecolors='black')\n",
    "    axs[1].scatter(max_[\"params\"][param1], max_[\"params\"][param2], s=80, c='green', edgecolors='black')\n",
    "\n",
    "    axs[1].set_title('Utility Function')\n",
    "    axs[1].set_xlabel(param1)\n",
    "    axs[1].set_ylabel(param2)\n",
    "\n",
    "    axs[1].set_xlim(param1_min, param1_max)\n",
    "    axs[1].set_ylim(param2_min, param2_max)\n",
    "\n",
    "    fig.colorbar(mesh2, location = 'bottom', label = \"Upper Confidence Bound Acquisition Function\") \n",
    "    plt.savefig('/glade/u/home/marielj/clm_frost/cesm_cases/bayesopt/figures/bayesopt_' + param1 + '_' + param2 + '_2d.pdf')\n",
    "\n",
    "    plt.show()"
   ]
  },
  {
   "cell_type": "code",
   "execution_count": null,
   "id": "67a8aad1-fc06-4521-8717-e068fa59a6b7",
   "metadata": {},
   "outputs": [],
   "source": [
    "plot_gp_2D(clm_optimizer2D, acquisition_function2D, 5, 'slopebeta', 'fff', -1000, 10, 0.1, 5)"
   ]
  },
  {
   "cell_type": "markdown",
   "id": "d0003c1e-df50-4c1a-b01a-c3857200985a",
   "metadata": {
    "tags": []
   },
   "source": [
    "## Full Domain Probing"
   ]
  },
  {
   "cell_type": "code",
   "execution_count": 4,
   "id": "f803c9e3-327a-4b98-9263-99a731435f73",
   "metadata": {},
   "outputs": [],
   "source": [
    "dt2 =pd.read_csv('Streamflow_daily.csv', \n",
    "                 parse_dates=['Date'])\n",
    "\n",
    "# Coerce the data into the types specified in the metadata  \n",
    "dt2.Watershed = dt2.Watershed.astype('category') \n",
    "\n",
    "# Pull out 2017 year\n",
    "stream = dt2[(dt2.Date.dt.year > 2010) & (dt2.Date.dt.year < 2017)]\n",
    "stream = stream[stream.Watershed == 'S2'].reset_index(drop = True)\n",
    "\n",
    "#Convert cm/day to mm/sec\n",
    "m = 10/(60*60*24)\n",
    "stream['Flow_mms'] = m*stream['Flow (cm/day)']\n",
    "\n",
    "\n",
    "'''FUNCTION SETUP'''\n",
    "def rsquared(x, y):\n",
    "    slope, intercept, r_value, p_value, std_err = scipy.stats.linregress(x, y)\n",
    "    return r_value**2"
   ]
  },
  {
   "cell_type": "code",
   "execution_count": 5,
   "id": "0c23395f-c552-41a2-9375-b0cc956ffcbe",
   "metadata": {},
   "outputs": [],
   "source": [
    "#Create Dictionary that will hold the data from the runs\n",
    "from collections import defaultdict"
   ]
  },
  {
   "cell_type": "markdown",
   "id": "e59d1016-e0e4-40ae-9bc9-f85699a70855",
   "metadata": {
    "tags": []
   },
   "source": [
    "Parameters:\n",
    "\n",
    "PFT (change_pft_param):\n",
    "- 'SLATOP':[0.004, 0.04]\n",
    "- 'LEAFLONG':[0.32, 2.0]\n",
    "- 'FROOTLEAF':[0.015, 2.0]\n",
    "\n",
    "Non-PFT (change_param):\n",
    "- 'SLOPEBETA': [-1000, 10]\n",
    "- 'FOVER': [0.1, 5]\n",
    "\n",
    "Namelist:\n",
    "- 'BASEFLOW': [10e-8, 2]\n",
    "- 'FMAX' : [0.1, 0.7]"
   ]
  },
  {
   "cell_type": "code",
   "execution_count": 6,
   "id": "a6cebbca-8aa3-4b9c-a5ea-636345aa4b12",
   "metadata": {},
   "outputs": [],
   "source": [
    "runs = defaultdict(lambda: defaultdict(dict))"
   ]
  },
  {
   "cell_type": "code",
   "execution_count": 7,
   "id": "95878f8d-adda-48ad-befa-a84a91b001f8",
   "metadata": {},
   "outputs": [],
   "source": [
    "def savedata(slatop, leaflong, frootleaf, slopebeta, fff, fmax, baseflow, dat, mean_wtd):\n",
    "    ind = len(clm_optimizer.res)\n",
    "    \n",
    "    #Add data to the dictionary\n",
    "    runs[ind]['params']['slatop'] = slatop\n",
    "    runs[ind]['params']['leaf_long'] = leaflong\n",
    "    runs[ind]['params']['froot_leaf'] = frootleaf\n",
    "    runs[ind]['params']['slopebeta'] = slopebeta\n",
    "    runs[ind]['params']['fff'] = fff\n",
    "    runs[ind]['params']['soil_fmax'] = fmax\n",
    "    runs[ind]['params']['baseflow_scalar'] = baseflow\n",
    "    runs[ind]['data']['timeseries'] = -(dat.ZWT.values)\n",
    "    runs[ind]['data']['mean'] = mean_wtd"
   ]
  },
  {
   "cell_type": "code",
   "execution_count": 8,
   "id": "04ab7a9d-ccbe-440d-8369-88f76da2d7f1",
   "metadata": {},
   "outputs": [],
   "source": [
    "def blackbox_clmND(slatop, leaflong, frootleaf, slopebeta, fff, baseflow, fmax):\n",
    "    #change parameter in netcdf file\n",
    "    target_param_file = '/glade/work/marielj/inputdata/lnd/clm2/paramdata/clm5_params_augmented_base.c171117.nc'\n",
    "    pft = 12 #arctic grass  \n",
    "    \n",
    "    #PFT Params\n",
    "    change_pft_param('slatop', pft, slatop, target_param_file)\n",
    "    change_pft_param('leaf_long', pft, leaflong, target_param_file)\n",
    "    change_pft_param('froot_leaf', pft, frootleaf, target_param_file)\n",
    "    \n",
    "    #NON PFT Params\n",
    "    change_param('slopebeta', slopebeta, target_param_file)\n",
    "    change_param('fff', fff, target_param_file)    \n",
    "    \n",
    "    os.chdir(CASE_DIR)\n",
    "    \n",
    "    #Namelist Params\n",
    "    change_nl_param('soil_fmax', fmax)\n",
    "    change_nl_param('baseflow_scalar', baseflow)\n",
    "    \n",
    "    #run case\n",
    "    pipe = subprocess.Popen(['qcmd', '-- ./case.submit'], stdout=subprocess.PIPE)\n",
    "    #result = pipe.communicate()[0]\n",
    "    #print(result)\n",
    "    #print(CASE_NAME + \" Run Complete\")\n",
    "    \n",
    "    #time delay -- check if archived data exists, if not wait 5 more seconds\n",
    "    SCRATCH_DIR = '/glade/scratch/marielj/archive/' + CASE_NAME + '/lnd/hist/'\n",
    "    while(not os.path.exists(SCRATCH_DIR + CASE_NAME + '.clm2.h1.2017-01-01-00000.nc')):\n",
    "        time.sleep(5)\n",
    "    \n",
    "    #find WTE data in scracth directory\n",
    "    os.chdir(SCRATCH_DIR)\n",
    "    \n",
    "    #Open data h1 data file\n",
    "    dat = xr.load_dataset(CASE_NAME + '.clm2.h1.2017-01-01-00000.nc')\n",
    "    #mean_wtd = -np.mean(dat.ZWT.values) For WTE comparison\n",
    "    stream_mod = dat.QRUNOFF.values\n",
    "\n",
    "    #Calculate correlation\n",
    "    R = rsquared(stream, stream_mod)\n",
    "    \n",
    "    #remove data\n",
    "    os.remove(CASE_NAME + '.clm2.h1.2017-01-01-00000.nc')\n",
    "    \n",
    "    #return average annual WTE\n",
    "    #return mean_wtd\n",
    "\n",
    "    #return R2\n",
    "    return R"
   ]
  },
  {
   "cell_type": "code",
   "execution_count": 9,
   "id": "0066c5bb-c86a-4221-be63-3f6d1465cf37",
   "metadata": {
    "jupyter": {
     "source_hidden": true
    },
    "tags": []
   },
   "outputs": [],
   "source": [
    "def blackbox_clm(slatop):\n",
    "    #change parameter in netcdf file\n",
    "    target_param_file = '/glade/work/marielj/inputdata/lnd/clm2/paramdata/clm5_params_augmented_base.c171117.nc'\n",
    "    target_param = 'slatop'\n",
    "    pft = 12 #arctic grass \n",
    "    \n",
    "    #PFT Params\n",
    "    change_pft_param('slatop', pft, slatop, target_param_file)\n",
    "    change_pft_param('leaf_long', pft, 0.32, target_param_file)\n",
    "    change_pft_param('froot_leaf', pft, 0, target_param_file)\n",
    "    \n",
    "    #NON PFT Params\n",
    "    change_param('slopebeta', 0, target_param_file)\n",
    "    change_param('fff', 0, target_param_file)    \n",
    "    \n",
    "    os.chdir(CASE_DIR)\n",
    "    \n",
    "    #Namelist Params\n",
    "    change_nl_param('soil_fmax', 0)\n",
    "    change_nl_param('baseflow_scalar', 0)\n",
    "    \n",
    "    os.chdir(CASE_DIR)\n",
    "    \n",
    "    #run case\n",
    "    pipe = subprocess.Popen(['qcmd', '-- ./case.submit'], stdout=subprocess.PIPE)\n",
    "    #result = pipe.communicate()[0]\n",
    "    #print(result)\n",
    "    #print(CASE_NAME + \" Run Complete\")\n",
    "    \n",
    "    #time delay -- check if archived data exists, if not wait 5 more seconds\n",
    "    SCRATCH_DIR = '/glade/scratch/marielj/archive/' + CASE_NAME + '/lnd/hist/'\n",
    "    while(not os.path.exists(SCRATCH_DIR + CASE_NAME + '.clm2.h1.2018-01-01-00000.nc')):\n",
    "        time.sleep(5)\n",
    "    \n",
    "    #find WTE data in scratch directory\n",
    "    os.chdir(SCRATCH_DIR)\n",
    "    \n",
    "    #Open data h1 data file\n",
    "    dat = xr.load_dataset(CASE_NAME + '.clm2.h1.2018-01-01-00000.nc')\n",
    "    mean_wtd = -np.mean(dat.ZWT.values)\n",
    "    #remove data\n",
    "    os.remove(CASE_NAME + '.clm2.h1.2018-01-01-00000.nc')\n",
    "    \n",
    "    #mean_wte = np.double(416.000) - mean_wtd\n",
    "    \n",
    "    #return average annual WTE\n",
    "    return mean_wtd"
   ]
  },
  {
   "cell_type": "code",
   "execution_count": 9,
   "id": "a7a618f1-cfa6-4929-a9bc-e64a3bd82682",
   "metadata": {
    "tags": []
   },
   "outputs": [],
   "source": [
    "#Declare optimizer\n",
    "clm_optimizer = BayesianOptimization(f = blackbox_clmND, \n",
    "                                    pbounds = {'slatop': (0.000, 0.04), \n",
    "                                               'leaflong':(0.0, 2.0),\n",
    "                                               'frootleaf':(0.00, 2.0),\n",
    "                                               'slopebeta': (-500, 500),\n",
    "                                               'fff': (0, 5),\n",
    "                                               'baseflow': (0, 10e-8),\n",
    "                                               'fmax' : (0, 0.7)}, \n",
    "                                    random_state = 42829)"
   ]
  },
  {
   "cell_type": "code",
   "execution_count": 10,
   "id": "75256bfb-abd9-4441-abaa-afc3e42652cc",
   "metadata": {
    "tags": []
   },
   "outputs": [],
   "source": [
    "#Increased Kappa to increase searching\n",
    "#Aquisition function\n",
    "acquisition_functionND = UtilityFunction(kind=\"ucb\", kappa=1000)"
   ]
  },
  {
   "cell_type": "code",
   "execution_count": 11,
   "id": "1fcc5567-9bf9-4267-9a80-2e1e2abe80fb",
   "metadata": {},
   "outputs": [],
   "source": [
    "'''Probing'''\n",
    "def probe_clm(slatop, leaflong, frootleaf, slopebeta, fff, baseflow, fmax):\n",
    "    #Set up probe\n",
    "    clm_optimizer.probe(\n",
    "        params = {'slatop': slatop,\n",
    "                  'leaflong': leaflong,\n",
    "                  'frootleaf': frootleaf,\n",
    "                  'slopebeta': slopebeta,\n",
    "                  'fff': fff,\n",
    "                  'baseflow': baseflow,\n",
    "                  'fmax' : fmax},\n",
    "        lazy=True,\n",
    "    )\n",
    "    \n",
    "    #Run probe (& print)\n",
    "    clm_optimizer.maximize(init_points = 0, n_iter = 0)"
   ]
  },
  {
   "cell_type": "markdown",
   "id": "a09fd8a0-6a01-41a3-afbe-5adc2e20d74e",
   "metadata": {},
   "source": [
    "### Base"
   ]
  },
  {
   "cell_type": "code",
   "execution_count": 12,
   "id": "190c6d78-46e4-403e-8995-cdd4231bc8a7",
   "metadata": {
    "collapsed": true,
    "jupyter": {
     "outputs_hidden": true
    },
    "tags": []
   },
   "outputs": [
    {
     "name": "stdout",
     "output_type": "stream",
     "text": [
      "|   iter    |  target   | baseflow  |    fff    |   fmax    | frootleaf | leaflong  |  slatop   | slopebeta |\n",
      "-------------------------------------------------------------------------------------------------------------\n"
     ]
    },
    {
     "ename": "KeyboardInterrupt",
     "evalue": "",
     "output_type": "error",
     "traceback": [
      "\u001b[0;31m---------------------------------------------------------------------------\u001b[0m",
      "\u001b[0;31mKeyboardInterrupt\u001b[0m                         Traceback (most recent call last)",
      "Cell \u001b[0;32mIn[12], line 1\u001b[0m\n\u001b[0;32m----> 1\u001b[0m \u001b[43mprobe_clm\u001b[49m\u001b[43m(\u001b[49m\u001b[43mslatop\u001b[49m\u001b[43m \u001b[49m\u001b[38;5;241;43m=\u001b[39;49m\u001b[43m \u001b[49m\u001b[38;5;241;43m0\u001b[39;49m\u001b[43m,\u001b[49m\u001b[43m \u001b[49m\u001b[43mleaflong\u001b[49m\u001b[43m \u001b[49m\u001b[38;5;241;43m=\u001b[39;49m\u001b[43m \u001b[49m\u001b[38;5;241;43m0\u001b[39;49m\u001b[43m,\u001b[49m\u001b[43m \u001b[49m\u001b[43mfrootleaf\u001b[49m\u001b[43m \u001b[49m\u001b[38;5;241;43m=\u001b[39;49m\u001b[43m \u001b[49m\u001b[38;5;241;43m0\u001b[39;49m\u001b[43m,\u001b[49m\u001b[43m \u001b[49m\u001b[43mslopebeta\u001b[49m\u001b[43m \u001b[49m\u001b[38;5;241;43m=\u001b[39;49m\u001b[43m \u001b[49m\u001b[38;5;241;43m0\u001b[39;49m\u001b[43m,\u001b[49m\u001b[43m \u001b[49m\u001b[43mfff\u001b[49m\u001b[43m \u001b[49m\u001b[38;5;241;43m=\u001b[39;49m\u001b[43m \u001b[49m\u001b[38;5;241;43m0\u001b[39;49m\u001b[43m,\u001b[49m\u001b[43m \u001b[49m\u001b[43mbaseflow\u001b[49m\u001b[43m \u001b[49m\u001b[38;5;241;43m=\u001b[39;49m\u001b[43m \u001b[49m\u001b[38;5;241;43m0\u001b[39;49m\u001b[43m,\u001b[49m\u001b[43m \u001b[49m\u001b[43mfmax\u001b[49m\u001b[43m \u001b[49m\u001b[38;5;241;43m=\u001b[39;49m\u001b[43m \u001b[49m\u001b[38;5;241;43m0\u001b[39;49m\u001b[43m)\u001b[49m\n",
      "Cell \u001b[0;32mIn[11], line 16\u001b[0m, in \u001b[0;36mprobe_clm\u001b[0;34m(slatop, leaflong, frootleaf, slopebeta, fff, baseflow, fmax)\u001b[0m\n\u001b[1;32m      4\u001b[0m clm_optimizer\u001b[38;5;241m.\u001b[39mprobe(\n\u001b[1;32m      5\u001b[0m     params \u001b[38;5;241m=\u001b[39m {\u001b[38;5;124m'\u001b[39m\u001b[38;5;124mslatop\u001b[39m\u001b[38;5;124m'\u001b[39m: slatop,\n\u001b[1;32m      6\u001b[0m               \u001b[38;5;124m'\u001b[39m\u001b[38;5;124mleaflong\u001b[39m\u001b[38;5;124m'\u001b[39m: leaflong,\n\u001b[0;32m   (...)\u001b[0m\n\u001b[1;32m     12\u001b[0m     lazy\u001b[38;5;241m=\u001b[39m\u001b[38;5;28;01mTrue\u001b[39;00m,\n\u001b[1;32m     13\u001b[0m )\n\u001b[1;32m     15\u001b[0m \u001b[38;5;66;03m#Run probe (& print)\u001b[39;00m\n\u001b[0;32m---> 16\u001b[0m \u001b[43mclm_optimizer\u001b[49m\u001b[38;5;241;43m.\u001b[39;49m\u001b[43mmaximize\u001b[49m\u001b[43m(\u001b[49m\u001b[43minit_points\u001b[49m\u001b[43m \u001b[49m\u001b[38;5;241;43m=\u001b[39;49m\u001b[43m \u001b[49m\u001b[38;5;241;43m0\u001b[39;49m\u001b[43m,\u001b[49m\u001b[43m \u001b[49m\u001b[43mn_iter\u001b[49m\u001b[43m \u001b[49m\u001b[38;5;241;43m=\u001b[39;49m\u001b[43m \u001b[49m\u001b[38;5;241;43m0\u001b[39;49m\u001b[43m)\u001b[49m\n",
      "File \u001b[0;32m/glade/work/marielj/conda-envs/ncdf/lib/python3.9/site-packages/bayes_opt/bayesian_optimization.py:311\u001b[0m, in \u001b[0;36mBayesianOptimization.maximize\u001b[0;34m(self, init_points, n_iter, acquisition_function, acq, kappa, kappa_decay, kappa_decay_delay, xi, **gp_params)\u001b[0m\n\u001b[1;32m    309\u001b[0m     x_probe \u001b[38;5;241m=\u001b[39m \u001b[38;5;28mself\u001b[39m\u001b[38;5;241m.\u001b[39msuggest(util)\n\u001b[1;32m    310\u001b[0m     iteration \u001b[38;5;241m+\u001b[39m\u001b[38;5;241m=\u001b[39m \u001b[38;5;241m1\u001b[39m\n\u001b[0;32m--> 311\u001b[0m \u001b[38;5;28;43mself\u001b[39;49m\u001b[38;5;241;43m.\u001b[39;49m\u001b[43mprobe\u001b[49m\u001b[43m(\u001b[49m\u001b[43mx_probe\u001b[49m\u001b[43m,\u001b[49m\u001b[43m \u001b[49m\u001b[43mlazy\u001b[49m\u001b[38;5;241;43m=\u001b[39;49m\u001b[38;5;28;43;01mFalse\u001b[39;49;00m\u001b[43m)\u001b[49m\n\u001b[1;32m    313\u001b[0m \u001b[38;5;28;01mif\u001b[39;00m \u001b[38;5;28mself\u001b[39m\u001b[38;5;241m.\u001b[39m_bounds_transformer \u001b[38;5;129;01mand\u001b[39;00m iteration \u001b[38;5;241m>\u001b[39m \u001b[38;5;241m0\u001b[39m:\n\u001b[1;32m    314\u001b[0m     \u001b[38;5;66;03m# The bounds transformer should only modify the bounds after\u001b[39;00m\n\u001b[1;32m    315\u001b[0m     \u001b[38;5;66;03m# the init_points points (only for the true iterations)\u001b[39;00m\n\u001b[1;32m    316\u001b[0m     \u001b[38;5;28mself\u001b[39m\u001b[38;5;241m.\u001b[39mset_bounds(\n\u001b[1;32m    317\u001b[0m         \u001b[38;5;28mself\u001b[39m\u001b[38;5;241m.\u001b[39m_bounds_transformer\u001b[38;5;241m.\u001b[39mtransform(\u001b[38;5;28mself\u001b[39m\u001b[38;5;241m.\u001b[39m_space))\n",
      "File \u001b[0;32m/glade/work/marielj/conda-envs/ncdf/lib/python3.9/site-packages/bayes_opt/bayesian_optimization.py:208\u001b[0m, in \u001b[0;36mBayesianOptimization.probe\u001b[0;34m(self, params, lazy)\u001b[0m\n\u001b[1;32m    206\u001b[0m     \u001b[38;5;28mself\u001b[39m\u001b[38;5;241m.\u001b[39m_queue\u001b[38;5;241m.\u001b[39madd(params)\n\u001b[1;32m    207\u001b[0m \u001b[38;5;28;01melse\u001b[39;00m:\n\u001b[0;32m--> 208\u001b[0m     \u001b[38;5;28;43mself\u001b[39;49m\u001b[38;5;241;43m.\u001b[39;49m\u001b[43m_space\u001b[49m\u001b[38;5;241;43m.\u001b[39;49m\u001b[43mprobe\u001b[49m\u001b[43m(\u001b[49m\u001b[43mparams\u001b[49m\u001b[43m)\u001b[49m\n\u001b[1;32m    209\u001b[0m     \u001b[38;5;28mself\u001b[39m\u001b[38;5;241m.\u001b[39mdispatch(Events\u001b[38;5;241m.\u001b[39mOPTIMIZATION_STEP)\n",
      "File \u001b[0;32m/glade/work/marielj/conda-envs/ncdf/lib/python3.9/site-packages/bayes_opt/target_space.py:236\u001b[0m, in \u001b[0;36mTargetSpace.probe\u001b[0;34m(self, params)\u001b[0m\n\u001b[1;32m    234\u001b[0m x \u001b[38;5;241m=\u001b[39m \u001b[38;5;28mself\u001b[39m\u001b[38;5;241m.\u001b[39m_as_array(params)\n\u001b[1;32m    235\u001b[0m params \u001b[38;5;241m=\u001b[39m \u001b[38;5;28mdict\u001b[39m(\u001b[38;5;28mzip\u001b[39m(\u001b[38;5;28mself\u001b[39m\u001b[38;5;241m.\u001b[39m_keys, x))\n\u001b[0;32m--> 236\u001b[0m target \u001b[38;5;241m=\u001b[39m \u001b[38;5;28;43mself\u001b[39;49m\u001b[38;5;241;43m.\u001b[39;49m\u001b[43mtarget_func\u001b[49m\u001b[43m(\u001b[49m\u001b[38;5;241;43m*\u001b[39;49m\u001b[38;5;241;43m*\u001b[39;49m\u001b[43mparams\u001b[49m\u001b[43m)\u001b[49m\n\u001b[1;32m    238\u001b[0m \u001b[38;5;28;01mif\u001b[39;00m \u001b[38;5;28mself\u001b[39m\u001b[38;5;241m.\u001b[39m_constraint \u001b[38;5;129;01mis\u001b[39;00m \u001b[38;5;28;01mNone\u001b[39;00m:\n\u001b[1;32m    239\u001b[0m     \u001b[38;5;28mself\u001b[39m\u001b[38;5;241m.\u001b[39mregister(x, target)\n",
      "Cell \u001b[0;32mIn[8], line 30\u001b[0m, in \u001b[0;36mblackbox_clmND\u001b[0;34m(slatop, leaflong, frootleaf, slopebeta, fff, baseflow, fmax)\u001b[0m\n\u001b[1;32m     28\u001b[0m SCRATCH_DIR \u001b[38;5;241m=\u001b[39m \u001b[38;5;124m'\u001b[39m\u001b[38;5;124m/glade/scratch/marielj/archive/\u001b[39m\u001b[38;5;124m'\u001b[39m \u001b[38;5;241m+\u001b[39m CASE_NAME \u001b[38;5;241m+\u001b[39m \u001b[38;5;124m'\u001b[39m\u001b[38;5;124m/lnd/hist/\u001b[39m\u001b[38;5;124m'\u001b[39m\n\u001b[1;32m     29\u001b[0m \u001b[38;5;28;01mwhile\u001b[39;00m(\u001b[38;5;129;01mnot\u001b[39;00m os\u001b[38;5;241m.\u001b[39mpath\u001b[38;5;241m.\u001b[39mexists(SCRATCH_DIR \u001b[38;5;241m+\u001b[39m CASE_NAME \u001b[38;5;241m+\u001b[39m \u001b[38;5;124m'\u001b[39m\u001b[38;5;124m.clm2.h1.2017-01-01-00000.nc\u001b[39m\u001b[38;5;124m'\u001b[39m)):\n\u001b[0;32m---> 30\u001b[0m     \u001b[43mtime\u001b[49m\u001b[38;5;241;43m.\u001b[39;49m\u001b[43msleep\u001b[49m\u001b[43m(\u001b[49m\u001b[38;5;241;43m5\u001b[39;49m\u001b[43m)\u001b[49m\n\u001b[1;32m     32\u001b[0m \u001b[38;5;66;03m#find WTE data in scracth directory\u001b[39;00m\n\u001b[1;32m     33\u001b[0m os\u001b[38;5;241m.\u001b[39mchdir(SCRATCH_DIR)\n",
      "\u001b[0;31mKeyboardInterrupt\u001b[0m: "
     ]
    }
   ],
   "source": [
    "probe_clm(slatop = 0, leaflong = 0, frootleaf = 0, slopebeta = 0, fff = 0, baseflow = 0, fmax = 0)"
   ]
  },
  {
   "cell_type": "code",
   "execution_count": 23,
   "id": "7253e919-1e82-4d0d-8eb2-bd0d8409f8cd",
   "metadata": {},
   "outputs": [
    {
     "name": "stdout",
     "output_type": "stream",
     "text": [
      "|   iter    |  target   | baseflow  |    fff    |   fmax    | frootleaf | leaflong  |  slatop   | slopebeta |\n",
      "-------------------------------------------------------------------------------------------------------------\n"
     ]
    },
    {
     "name": "stderr",
     "output_type": "stream",
     "text": [
      "Traceback (most recent call last):\n",
      "  File \"/ncar/opt/sam/sam_validate.py\", line 117, in <module>\n",
      "    print_shadow_info(user)\n",
      "  File \"/ncar/opt/sam/sam_validate.py\", line 80, in print_shadow_info\n",
      "    time.localtime(time.time())),\n",
      "IOError: [Errno 32] Broken pipe\n"
     ]
    },
    {
     "name": "stdout",
     "output_type": "stream",
     "text": [
      "| \u001b[0m2        \u001b[0m | \u001b[0m-0.3819  \u001b[0m | \u001b[0m0.0      \u001b[0m | \u001b[0m0.0      \u001b[0m | \u001b[0m0.0      \u001b[0m | \u001b[0m0.015    \u001b[0m | \u001b[0m0.32     \u001b[0m | \u001b[0m0.004    \u001b[0m | \u001b[0m0.0      \u001b[0m |\n",
      "=============================================================================================================\n"
     ]
    }
   ],
   "source": [
    "probe_clm(slatop = 0.004, leaflong = 0.32, frootleaf = 0.015, slopebeta = 0, fff = 0, baseflow = 0, fmax = 0)"
   ]
  },
  {
   "cell_type": "markdown",
   "id": "343a8c4b-eb7c-42ff-a5c3-7d539adef1b1",
   "metadata": {},
   "source": [
    "### SAVE DATA"
   ]
  },
  {
   "cell_type": "code",
   "execution_count": 32,
   "id": "0c2954d7-827a-4e3f-ac10-bda7e8fc34b1",
   "metadata": {},
   "outputs": [],
   "source": [
    "class NpEncoder(json.JSONEncoder):\n",
    "    def default(self, obj):\n",
    "        if isinstance(obj, np.integer):\n",
    "            return int(obj)\n",
    "        if isinstance(obj, np.floating):\n",
    "            return float(obj)\n",
    "        if isinstance(obj, np.ndarray):\n",
    "            return obj.tolist()\n",
    "        return super(NpEncoder, self).default(obj)"
   ]
  },
  {
   "cell_type": "code",
   "execution_count": 33,
   "id": "d9bc8557-66ef-43f2-8e27-d14b5dc4414f",
   "metadata": {
    "tags": []
   },
   "outputs": [],
   "source": [
    "import json\n",
    "\n",
    "#save file\n",
    "with open(\"/glade/u/home/marielj/clm_frost/clm-runscripts/logs/saved-data.json\", \"w\") as fp:\n",
    "    json.dump(runs , fp, cls = NpEncoder)"
   ]
  },
  {
   "cell_type": "markdown",
   "id": "496e8fd1-7aef-4332-b1d4-67400ea08523",
   "metadata": {
    "jp-MarkdownHeadingCollapsed": true,
    "tags": []
   },
   "source": [
    "## Run 1D probing"
   ]
  },
  {
   "cell_type": "markdown",
   "id": "925d6d56-4611-4660-9feb-03a3675c99de",
   "metadata": {
    "jp-MarkdownHeadingCollapsed": true,
    "tags": []
   },
   "source": [
    "### slopebeta - 1D probing with fixed values"
   ]
  },
  {
   "cell_type": "code",
   "execution_count": null,
   "id": "8cabafeb-bdb3-4fdb-8117-6e26f3dd45a5",
   "metadata": {},
   "outputs": [],
   "source": [
    "#Declare optimizer\n",
    "clm_optimizer1D = BayesianOptimization(f = blackbox_clm, \n",
    "                                    pbounds = {#'slatop': (0.004, 0.04), \n",
    "                                               #'leaflong':(0.32, 2.0),\n",
    "                                               #'frootleaf':(0.015, 2.0),\n",
    "                                               'slopebeta': (-500, 500)\n",
    "                                               #'fff': (0.1, 5),\n",
    "                                               #'baseflow': (0, 10e-8),\n",
    "                                               #'fmax' : (0.1, 0.7)\n",
    "                                    }, \n",
    "                                    random_state = 58239)"
   ]
  },
  {
   "cell_type": "code",
   "execution_count": null,
   "id": "986be059-ae68-4d3c-8605-e81992cc7afe",
   "metadata": {
    "tags": []
   },
   "outputs": [],
   "source": [
    "#Probe\n",
    "for p in np.linspace(-500, 500, 10):\n",
    "    clm_optimizer1D.probe(\n",
    "        params={\"slopebeta\": p},\n",
    "        lazy=True,\n",
    "    )\n",
    "\n",
    "clm_optimizer1D.maximize(init_points = 0, n_iter = 0)"
   ]
  },
  {
   "cell_type": "code",
   "execution_count": null,
   "id": "4bb6492d-4916-4bd8-a30f-8e613400ab19",
   "metadata": {},
   "outputs": [],
   "source": [
    "plot_gp_adapted(clm_optimizer1D, np.linspace(-500, 500, 10).reshape(-1, 1), 'slopebeta')"
   ]
  },
  {
   "cell_type": "markdown",
   "id": "9fb7d238-53b0-43fd-8b0c-9562f119f1cd",
   "metadata": {
    "jp-MarkdownHeadingCollapsed": true,
    "tags": []
   },
   "source": [
    "### fover- 1D probing with fixed values"
   ]
  },
  {
   "cell_type": "code",
   "execution_count": null,
   "id": "b172f482-eb67-4490-8e29-e7fc86d6fbcf",
   "metadata": {},
   "outputs": [],
   "source": [
    "#Declare optimizer\n",
    "clm_optimizer1D = BayesianOptimization(f = blackbox_clm, \n",
    "                                    pbounds = {#'slatop': (0.004, 0.04), \n",
    "                                               #'leaflong':(0.32, 2.0),\n",
    "                                               #'frootleaf':(0.015, 2.0),\n",
    "                                               #'slopebeta': (-500, 500)\n",
    "                                               'fff': (0, 5)\n",
    "                                               #'baseflow': (0, 10e-8),\n",
    "                                               #'fmax' : (0.1, 0.7)\n",
    "                                    }, \n",
    "                                    random_state = 58239)"
   ]
  },
  {
   "cell_type": "code",
   "execution_count": null,
   "id": "ff6238d0-91be-452e-abfb-89fdc7d386f4",
   "metadata": {
    "tags": []
   },
   "outputs": [],
   "source": [
    "#Probe\n",
    "for p in np.linspace(0, 5, 10):\n",
    "    clm_optimizer1D.probe(\n",
    "        params={\"fff\": p},\n",
    "        lazy=True,\n",
    "    )\n",
    "\n",
    "clm_optimizer1D.maximize(init_points = 0, n_iter = 0)"
   ]
  },
  {
   "cell_type": "code",
   "execution_count": null,
   "id": "9c6ab1c4-b7a2-47c3-aa9b-415ced762578",
   "metadata": {
    "tags": []
   },
   "outputs": [],
   "source": [
    "plot_gp_adapted(clm_optimizer1D, np.linspace(0, 5, 10).reshape(-1, 1), 'fff')"
   ]
  },
  {
   "cell_type": "markdown",
   "id": "b594ab38-da02-43cf-839c-193007888dbe",
   "metadata": {
    "jp-MarkdownHeadingCollapsed": true,
    "tags": []
   },
   "source": [
    "### slatop - 1D probing with fixed values"
   ]
  },
  {
   "cell_type": "code",
   "execution_count": null,
   "id": "84efb258-ea3b-45e5-8be3-1a06b6d154b9",
   "metadata": {},
   "outputs": [],
   "source": [
    "#Declare optimizer\n",
    "clm_optimizer1D = BayesianOptimization(f = blackbox_clm, \n",
    "                                    pbounds = {'slatop': (0, 0.04) \n",
    "                                               #'leaflong':(0.32, 2.0),\n",
    "                                               #'frootleaf':(0.015, 2.0),\n",
    "                                               #'slopebeta': (-500, 500)\n",
    "                                               #'fff': (0, 5)\n",
    "                                               #'baseflow': (0, 10e-8),\n",
    "                                               #'fmax' : (0.1, 0.7)\n",
    "                                    }, \n",
    "                                    random_state = 58239)"
   ]
  },
  {
   "cell_type": "code",
   "execution_count": null,
   "id": "6b62a153-a557-47b8-bf68-6c8fb373aea8",
   "metadata": {
    "tags": []
   },
   "outputs": [],
   "source": [
    "#Probe\n",
    "for p in np.linspace(0, 0.04, 10):\n",
    "    clm_optimizer1D.probe(\n",
    "        params={\"slatop\": p},\n",
    "        lazy=True,\n",
    "    )\n",
    "\n",
    "clm_optimizer1D.maximize(init_points = 0, n_iter = 0)"
   ]
  },
  {
   "cell_type": "code",
   "execution_count": null,
   "id": "e342109c-e917-4b1c-9dd1-e398014c29b2",
   "metadata": {
    "tags": []
   },
   "outputs": [],
   "source": [
    "plot_gp_adapted(clm_optimizer1D, np.linspace(0, 0.04, 10).reshape(-1, 1), 'slatop')"
   ]
  },
  {
   "cell_type": "markdown",
   "id": "c2221b1d-5833-4aec-a8d7-88b7fbda7f15",
   "metadata": {
    "jp-MarkdownHeadingCollapsed": true,
    "tags": []
   },
   "source": [
    "### baseflow - 1D probing with fixed values"
   ]
  },
  {
   "cell_type": "code",
   "execution_count": null,
   "id": "6965e25a-def1-456d-849d-378c6e395a68",
   "metadata": {},
   "outputs": [],
   "source": [
    "#Declare optimizer\n",
    "clm_optimizer1D = BayesianOptimization(f = blackbox_clm, \n",
    "                                    pbounds = {#'slatop': (0, 0.04) \n",
    "                                               #'leaflong':(0.32, 2.0),\n",
    "                                               #'frootleaf':(0.015, 2.0),\n",
    "                                               #'slopebeta': (-500, 500)\n",
    "                                               #'fff': (0, 5)\n",
    "                                               'baseflow': (0, 10e-5)\n",
    "                                               #'fmax' : (0.1, 0.7)\n",
    "                                    }, \n",
    "                                    random_state = 58239)"
   ]
  },
  {
   "cell_type": "code",
   "execution_count": null,
   "id": "e421ed28-76ba-48f8-af78-70027caeb267",
   "metadata": {
    "tags": []
   },
   "outputs": [],
   "source": [
    "#Probe\n",
    "for p in np.linspace(0, 10e-5, 10):\n",
    "    clm_optimizer1D.probe(\n",
    "        params={\"baseflow\": p},\n",
    "        lazy=True,\n",
    "    )\n",
    "\n",
    "clm_optimizer1D.maximize(init_points = 0, n_iter = 0)"
   ]
  },
  {
   "cell_type": "code",
   "execution_count": null,
   "id": "e0a5d023-1ade-4d26-baca-c945975022fd",
   "metadata": {
    "tags": []
   },
   "outputs": [],
   "source": [
    "plot_gp_adapted(clm_optimizer1D, np.linspace(0, 10e-5, 10).reshape(-1, 1), 'baseflow')"
   ]
  },
  {
   "cell_type": "markdown",
   "id": "2d755ea1-7568-43f7-9436-bb7f0def4206",
   "metadata": {
    "jp-MarkdownHeadingCollapsed": true,
    "tags": []
   },
   "source": [
    "### fmax - 1D probing with fixed values"
   ]
  },
  {
   "cell_type": "code",
   "execution_count": null,
   "id": "9f84197c-45dc-4cf3-9da1-e9f2eeac34d1",
   "metadata": {},
   "outputs": [],
   "source": [
    "#Declare optimizer\n",
    "clm_optimizer1D = BayesianOptimization(f = blackbox_clm, \n",
    "                                    pbounds = {#'slatop': (0, 0.04) \n",
    "                                               #'leaflong':(0.32, 2.0),\n",
    "                                               #'frootleaf':(0.015, 2.0),\n",
    "                                               #'slopebeta': (-500, 500)\n",
    "                                               #'fff': (0, 5)\n",
    "                                               #'baseflow': (0, 10e-5)\n",
    "                                               'fmax' : (0.1, 0.7)\n",
    "                                    }, \n",
    "                                    random_state = 58239)"
   ]
  },
  {
   "cell_type": "code",
   "execution_count": null,
   "id": "d6d13f0f-4362-4088-9a54-eef9e973e419",
   "metadata": {
    "tags": []
   },
   "outputs": [],
   "source": [
    "#Probe\n",
    "for p in np.linspace(0, 0.7, 10):\n",
    "    clm_optimizer1D.probe(\n",
    "        params={\"fmax\": p},\n",
    "        lazy=True,\n",
    "    )\n",
    "\n",
    "clm_optimizer1D.maximize(init_points = 0, n_iter = 0)"
   ]
  },
  {
   "cell_type": "code",
   "execution_count": null,
   "id": "fb9ead93-f9c2-41cc-a9cb-e892527e7225",
   "metadata": {},
   "outputs": [],
   "source": [
    "plot_gp_adapted(clm_optimizer1D, np.linspace(0, 0.7, 10).reshape(-1, 1), 'fmax')"
   ]
  },
  {
   "cell_type": "markdown",
   "id": "086e2281-ec40-4477-b5ce-b8b09cf54cd3",
   "metadata": {
    "jp-MarkdownHeadingCollapsed": true,
    "tags": []
   },
   "source": [
    "### leaf_long - 1D probing with fixed values"
   ]
  },
  {
   "cell_type": "code",
   "execution_count": null,
   "id": "b71532f6-36b6-4c6e-ab6d-b815f2ec52a7",
   "metadata": {},
   "outputs": [],
   "source": [
    "#Declare optimizer\n",
    "clm_optimizer1D = BayesianOptimization(f = blackbox_clm, \n",
    "                                    pbounds = {#'slatop': (0, 0.04) \n",
    "                                               'leaflong':(0.32, 2.0)\n",
    "                                               #'frootleaf':(0.015, 2.0),\n",
    "                                               #'slopebeta': (-500, 500)\n",
    "                                               #'fff': (0, 5)\n",
    "                                               #'baseflow': (0, 10e-5)\n",
    "                                               #'fmax' : (0.1, 0.7)\n",
    "                                    }, \n",
    "                                    random_state = 58239)"
   ]
  },
  {
   "cell_type": "code",
   "execution_count": null,
   "id": "2783837d-9268-4392-8016-2d95048237bb",
   "metadata": {},
   "outputs": [],
   "source": [
    "#Probe\n",
    "for p in np.linspace(0, 2.0, 10):\n",
    "    clm_optimizer1D.probe(\n",
    "        params={\"leaflong\": p},\n",
    "        lazy=True,\n",
    "    )\n",
    "\n",
    "clm_optimizer1D.maximize(init_points = 0, n_iter = 0)"
   ]
  },
  {
   "cell_type": "code",
   "execution_count": null,
   "id": "a01d99a7-fa19-4493-b785-a1b6ddce275a",
   "metadata": {},
   "outputs": [],
   "source": [
    "plot_gp_adapted(clm_optimizer1D, np.linspace(0, 2.0, 10).reshape(-1, 1), 'leaflong')"
   ]
  },
  {
   "cell_type": "code",
   "execution_count": null,
   "id": "2d098fe6-eb07-4b2f-900b-62a2de25e5f3",
   "metadata": {},
   "outputs": [],
   "source": []
  }
 ],
 "metadata": {
  "kernelspec": {
   "display_name": "Python [conda env:ncdf]",
   "language": "python",
   "name": "conda-env-ncdf-py"
  },
  "language_info": {
   "codemirror_mode": {
    "name": "ipython",
    "version": 3
   },
   "file_extension": ".py",
   "mimetype": "text/x-python",
   "name": "python",
   "nbconvert_exporter": "python",
   "pygments_lexer": "ipython3",
   "version": "3.9.15"
  }
 },
 "nbformat": 4,
 "nbformat_minor": 5
}
