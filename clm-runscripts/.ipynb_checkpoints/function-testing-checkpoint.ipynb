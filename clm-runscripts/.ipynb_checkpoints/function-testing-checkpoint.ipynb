{
 "cells": [
  {
   "cell_type": "code",
   "execution_count": 6,
   "id": "1796eca9-bbda-4f07-bfcc-280bf3cdb0e9",
   "metadata": {},
   "outputs": [],
   "source": [
    "from clmmodtools import *"
   ]
  },
  {
   "cell_type": "code",
   "execution_count": 7,
   "id": "1f0c67fa-2568-48cf-958b-95164860b639",
   "metadata": {},
   "outputs": [
    {
     "name": "stderr",
     "output_type": "stream",
     "text": [
      "/glade/work/marielj/conda-envs/ncdf/lib/python3.9/site-packages/pandas/core/arrays/timedeltas.py:908: RuntimeWarning: invalid value encountered in cast\n",
      "  base = data.astype(np.int64)\n",
      "/glade/work/marielj/conda-envs/ncdf/lib/python3.9/site-packages/pandas/core/arrays/timedeltas.py:912: RuntimeWarning: invalid value encountered in cast\n",
      "  data = (base * m + (frac * m).astype(np.int64)).view(\"timedelta64[ns]\")\n"
     ]
    },
    {
     "ename": "TypeError",
     "evalue": "object of type 'float' has no len()",
     "output_type": "error",
     "traceback": [
      "\u001b[0;31m---------------------------------------------------------------------------\u001b[0m",
      "\u001b[0;31mTypeError\u001b[0m                                 Traceback (most recent call last)",
      "Cell \u001b[0;32mIn[7], line 7\u001b[0m\n\u001b[1;32m      4\u001b[0m target_param \u001b[38;5;241m=\u001b[39m \u001b[38;5;124m'\u001b[39m\u001b[38;5;124mfff\u001b[39m\u001b[38;5;124m'\u001b[39m\n\u001b[1;32m      5\u001b[0m target_param_value \u001b[38;5;241m=\u001b[39m \u001b[38;5;241m0.2\u001b[39m\n\u001b[0;32m----> 7\u001b[0m \u001b[43mchange_param\u001b[49m\u001b[43m(\u001b[49m\u001b[43mtarget_param\u001b[49m\u001b[43m,\u001b[49m\u001b[43m \u001b[49m\u001b[43mtarget_param_value\u001b[49m\u001b[43m,\u001b[49m\u001b[43m \u001b[49m\u001b[43mtarget_param_file\u001b[49m\u001b[43m)\u001b[49m\n",
      "File \u001b[0;32m~/clm_frost/clm-runscripts/clmmodtools.py:28\u001b[0m, in \u001b[0;36mchange_param\u001b[0;34m(param, value, param_file)\u001b[0m\n\u001b[1;32m     25\u001b[0m dat \u001b[38;5;241m=\u001b[39m xr\u001b[38;5;241m.\u001b[39mload_dataset(param_file)\n\u001b[1;32m     27\u001b[0m \u001b[38;5;66;03m#Check to make sure the size of existing data matches the replacement data\u001b[39;00m\n\u001b[0;32m---> 28\u001b[0m \u001b[38;5;28;01mif\u001b[39;00m(\u001b[38;5;28;43mlen\u001b[39;49m\u001b[43m(\u001b[49m\u001b[43mvalue\u001b[49m\u001b[43m)\u001b[49m \u001b[38;5;241m>\u001b[39m \u001b[38;5;241m1\u001b[39m):\n\u001b[1;32m     29\u001b[0m     \u001b[38;5;28mprint\u001b[39m(\u001b[38;5;124m'\u001b[39m\u001b[38;5;124mError: attempting to replace single value with array\u001b[39m\u001b[38;5;124m'\u001b[39m)\n\u001b[1;32m     30\u001b[0m     \u001b[38;5;28;01mreturn\u001b[39;00m\n",
      "\u001b[0;31mTypeError\u001b[0m: object of type 'float' has no len()"
     ]
    }
   ],
   "source": [
    "'''Test changing parameter value'''\n",
    "\n",
    "target_param_file = '/glade/work/marielj/inputdata/lnd/clm2/paramdata/clm5_params_augmented_base.c171117.nc'\n",
    "target_param = 'fff'\n",
    "target_param_value = 0.2\n",
    "\n",
    "change_param(target_param, target_param_value, target_param_file)"
   ]
  },
  {
   "cell_type": "code",
   "execution_count": null,
   "id": "736a66dd-1c2c-4c32-8b20-54ecf6380795",
   "metadata": {},
   "outputs": [],
   "source": []
  }
 ],
 "metadata": {
  "kernelspec": {
   "display_name": "Python [conda env:ncdf]",
   "language": "python",
   "name": "conda-env-ncdf-py"
  },
  "language_info": {
   "codemirror_mode": {
    "name": "ipython",
    "version": 3
   },
   "file_extension": ".py",
   "mimetype": "text/x-python",
   "name": "python",
   "nbconvert_exporter": "python",
   "pygments_lexer": "ipython3",
   "version": "3.9.15"
  }
 },
 "nbformat": 4,
 "nbformat_minor": 5
}
