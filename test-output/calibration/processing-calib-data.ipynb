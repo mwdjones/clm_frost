{
 "cells": [
  {
   "cell_type": "code",
   "execution_count": 5,
   "metadata": {},
   "outputs": [
    {
     "ename": "ModuleNotFoundError",
     "evalue": "No module named 'cftime'",
     "output_type": "error",
     "traceback": [
      "\u001b[1;31m---------------------------------------------------------------------------\u001b[0m",
      "\u001b[1;31mModuleNotFoundError\u001b[0m                       Traceback (most recent call last)",
      "Cell \u001b[1;32mIn [5], line 5\u001b[0m\n\u001b[0;32m      3\u001b[0m \u001b[39mimport\u001b[39;00m \u001b[39mnumpy\u001b[39;00m \u001b[39mas\u001b[39;00m \u001b[39mnp\u001b[39;00m\n\u001b[0;32m      4\u001b[0m \u001b[39mimport\u001b[39;00m \u001b[39mmatplotlib\u001b[39;00m \u001b[39mas\u001b[39;00m \u001b[39mplt\u001b[39;00m\n\u001b[1;32m----> 5\u001b[0m \u001b[39mimport\u001b[39;00m \u001b[39mcftime\u001b[39;00m\n",
      "\u001b[1;31mModuleNotFoundError\u001b[0m: No module named 'cftime'"
     ]
    }
   ],
   "source": [
    "import xarray as xr\n",
    "import pandas as pd\n",
    "import numpy as np\n",
    "import matplotlib as plt\n",
    "import cftime"
   ]
  },
  {
   "cell_type": "code",
   "execution_count": 4,
   "metadata": {},
   "outputs": [
    {
     "ename": "ValueError",
     "evalue": "Failed to decode variable 'time': unable to decode time units 'days since 2011-01-01 00:00:00' with \"calendar 'noleap'\". Try opening your dataset with decode_times=False or installing cftime if it is not installed.",
     "output_type": "error",
     "traceback": [
      "\u001b[1;31m---------------------------------------------------------------------------\u001b[0m",
      "\u001b[1;31mModuleNotFoundError\u001b[0m                       Traceback (most recent call last)",
      "File \u001b[1;32mc:\\Users\\Mariel Jones\\anaconda3\\envs\\data\\lib\\site-packages\\xarray\\coding\\times.py:180\u001b[0m, in \u001b[0;36m_decode_cf_datetime_dtype\u001b[1;34m(data, units, calendar, use_cftime)\u001b[0m\n\u001b[0;32m    179\u001b[0m \u001b[39mtry\u001b[39;00m:\n\u001b[1;32m--> 180\u001b[0m     result \u001b[39m=\u001b[39m decode_cf_datetime(example_value, units, calendar, use_cftime)\n\u001b[0;32m    181\u001b[0m \u001b[39mexcept\u001b[39;00m \u001b[39mException\u001b[39;00m:\n",
      "File \u001b[1;32mc:\\Users\\Mariel Jones\\anaconda3\\envs\\data\\lib\\site-packages\\xarray\\coding\\times.py:298\u001b[0m, in \u001b[0;36mdecode_cf_datetime\u001b[1;34m(num_dates, units, calendar, use_cftime)\u001b[0m\n\u001b[0;32m    297\u001b[0m \u001b[39melif\u001b[39;00m use_cftime:\n\u001b[1;32m--> 298\u001b[0m     dates \u001b[39m=\u001b[39m _decode_datetime_with_cftime(flat_num_dates, units, calendar)\n\u001b[0;32m    299\u001b[0m \u001b[39melse\u001b[39;00m:\n",
      "File \u001b[1;32mc:\\Users\\Mariel Jones\\anaconda3\\envs\\data\\lib\\site-packages\\xarray\\coding\\times.py:199\u001b[0m, in \u001b[0;36m_decode_datetime_with_cftime\u001b[1;34m(num_dates, units, calendar)\u001b[0m\n\u001b[0;32m    198\u001b[0m \u001b[39mif\u001b[39;00m cftime \u001b[39mis\u001b[39;00m \u001b[39mNone\u001b[39;00m:\n\u001b[1;32m--> 199\u001b[0m     \u001b[39mraise\u001b[39;00m \u001b[39mModuleNotFoundError\u001b[39;00m(\u001b[39m\"\u001b[39m\u001b[39mNo module named \u001b[39m\u001b[39m'\u001b[39m\u001b[39mcftime\u001b[39m\u001b[39m'\u001b[39m\u001b[39m\"\u001b[39m)\n\u001b[0;32m    200\u001b[0m \u001b[39mif\u001b[39;00m num_dates\u001b[39m.\u001b[39msize \u001b[39m>\u001b[39m \u001b[39m0\u001b[39m:\n",
      "\u001b[1;31mModuleNotFoundError\u001b[0m: No module named 'cftime'",
      "\nDuring handling of the above exception, another exception occurred:\n",
      "\u001b[1;31mValueError\u001b[0m                                Traceback (most recent call last)",
      "File \u001b[1;32mc:\\Users\\Mariel Jones\\anaconda3\\envs\\data\\lib\\site-packages\\xarray\\conventions.py:523\u001b[0m, in \u001b[0;36mdecode_cf_variables\u001b[1;34m(variables, attributes, concat_characters, mask_and_scale, decode_times, decode_coords, drop_variables, use_cftime, decode_timedelta)\u001b[0m\n\u001b[0;32m    522\u001b[0m \u001b[39mtry\u001b[39;00m:\n\u001b[1;32m--> 523\u001b[0m     new_vars[k] \u001b[39m=\u001b[39m decode_cf_variable(\n\u001b[0;32m    524\u001b[0m         k,\n\u001b[0;32m    525\u001b[0m         v,\n\u001b[0;32m    526\u001b[0m         concat_characters\u001b[39m=\u001b[39;49mconcat_characters,\n\u001b[0;32m    527\u001b[0m         mask_and_scale\u001b[39m=\u001b[39;49mmask_and_scale,\n\u001b[0;32m    528\u001b[0m         decode_times\u001b[39m=\u001b[39;49mdecode_times,\n\u001b[0;32m    529\u001b[0m         stack_char_dim\u001b[39m=\u001b[39;49mstack_char_dim,\n\u001b[0;32m    530\u001b[0m         use_cftime\u001b[39m=\u001b[39;49muse_cftime,\n\u001b[0;32m    531\u001b[0m         decode_timedelta\u001b[39m=\u001b[39;49mdecode_timedelta,\n\u001b[0;32m    532\u001b[0m     )\n\u001b[0;32m    533\u001b[0m \u001b[39mexcept\u001b[39;00m \u001b[39mException\u001b[39;00m \u001b[39mas\u001b[39;00m e:\n",
      "File \u001b[1;32mc:\\Users\\Mariel Jones\\anaconda3\\envs\\data\\lib\\site-packages\\xarray\\conventions.py:369\u001b[0m, in \u001b[0;36mdecode_cf_variable\u001b[1;34m(name, var, concat_characters, mask_and_scale, decode_times, decode_endianness, stack_char_dim, use_cftime, decode_timedelta)\u001b[0m\n\u001b[0;32m    368\u001b[0m \u001b[39mif\u001b[39;00m decode_times:\n\u001b[1;32m--> 369\u001b[0m     var \u001b[39m=\u001b[39m times\u001b[39m.\u001b[39;49mCFDatetimeCoder(use_cftime\u001b[39m=\u001b[39;49muse_cftime)\u001b[39m.\u001b[39;49mdecode(var, name\u001b[39m=\u001b[39;49mname)\n\u001b[0;32m    371\u001b[0m dimensions, data, attributes, encoding \u001b[39m=\u001b[39m variables\u001b[39m.\u001b[39munpack_for_decoding(var)\n",
      "File \u001b[1;32mc:\\Users\\Mariel Jones\\anaconda3\\envs\\data\\lib\\site-packages\\xarray\\coding\\times.py:699\u001b[0m, in \u001b[0;36mCFDatetimeCoder.decode\u001b[1;34m(self, variable, name)\u001b[0m\n\u001b[0;32m    698\u001b[0m calendar \u001b[39m=\u001b[39m pop_to(attrs, encoding, \u001b[39m\"\u001b[39m\u001b[39mcalendar\u001b[39m\u001b[39m\"\u001b[39m)\n\u001b[1;32m--> 699\u001b[0m dtype \u001b[39m=\u001b[39m _decode_cf_datetime_dtype(data, units, calendar, \u001b[39mself\u001b[39;49m\u001b[39m.\u001b[39;49muse_cftime)\n\u001b[0;32m    700\u001b[0m transform \u001b[39m=\u001b[39m partial(\n\u001b[0;32m    701\u001b[0m     decode_cf_datetime,\n\u001b[0;32m    702\u001b[0m     units\u001b[39m=\u001b[39munits,\n\u001b[0;32m    703\u001b[0m     calendar\u001b[39m=\u001b[39mcalendar,\n\u001b[0;32m    704\u001b[0m     use_cftime\u001b[39m=\u001b[39m\u001b[39mself\u001b[39m\u001b[39m.\u001b[39muse_cftime,\n\u001b[0;32m    705\u001b[0m )\n",
      "File \u001b[1;32mc:\\Users\\Mariel Jones\\anaconda3\\envs\\data\\lib\\site-packages\\xarray\\coding\\times.py:190\u001b[0m, in \u001b[0;36m_decode_cf_datetime_dtype\u001b[1;34m(data, units, calendar, use_cftime)\u001b[0m\n\u001b[0;32m    185\u001b[0m     msg \u001b[39m=\u001b[39m (\n\u001b[0;32m    186\u001b[0m         \u001b[39mf\u001b[39m\u001b[39m\"\u001b[39m\u001b[39munable to decode time units \u001b[39m\u001b[39m{\u001b[39;00munits\u001b[39m!r}\u001b[39;00m\u001b[39m with \u001b[39m\u001b[39m{\u001b[39;00mcalendar_msg\u001b[39m!r}\u001b[39;00m\u001b[39m. Try \u001b[39m\u001b[39m\"\u001b[39m\n\u001b[0;32m    187\u001b[0m         \u001b[39m\"\u001b[39m\u001b[39mopening your dataset with decode_times=False or installing cftime \u001b[39m\u001b[39m\"\u001b[39m\n\u001b[0;32m    188\u001b[0m         \u001b[39m\"\u001b[39m\u001b[39mif it is not installed.\u001b[39m\u001b[39m\"\u001b[39m\n\u001b[0;32m    189\u001b[0m     )\n\u001b[1;32m--> 190\u001b[0m     \u001b[39mraise\u001b[39;00m \u001b[39mValueError\u001b[39;00m(msg)\n\u001b[0;32m    191\u001b[0m \u001b[39melse\u001b[39;00m:\n",
      "\u001b[1;31mValueError\u001b[0m: unable to decode time units 'days since 2011-01-01 00:00:00' with \"calendar 'noleap'\". Try opening your dataset with decode_times=False or installing cftime if it is not installed.",
      "\nDuring handling of the above exception, another exception occurred:\n",
      "\u001b[1;31mValueError\u001b[0m                                Traceback (most recent call last)",
      "Cell \u001b[1;32mIn [4], line 1\u001b[0m\n\u001b[1;32m----> 1\u001b[0m calib2011 \u001b[39m=\u001b[39m xr\u001b[39m.\u001b[39;49mopen_dataset(\u001b[39m'\u001b[39;49m\u001b[39mMBP-TEST2.clm2.h1.2011-01-01-00000.nc\u001b[39;49m\u001b[39m'\u001b[39;49m,\n\u001b[0;32m      2\u001b[0m  decode_timedelta \u001b[39m=\u001b[39;49m \u001b[39mTrue\u001b[39;49;00m,\n\u001b[0;32m      3\u001b[0m  use_cftime \u001b[39m=\u001b[39;49m \u001b[39mTrue\u001b[39;49;00m)\n",
      "File \u001b[1;32mc:\\Users\\Mariel Jones\\anaconda3\\envs\\data\\lib\\site-packages\\xarray\\backends\\api.py:539\u001b[0m, in \u001b[0;36mopen_dataset\u001b[1;34m(filename_or_obj, engine, chunks, cache, decode_cf, mask_and_scale, decode_times, decode_timedelta, use_cftime, concat_characters, decode_coords, drop_variables, inline_array, backend_kwargs, **kwargs)\u001b[0m\n\u001b[0;32m    527\u001b[0m decoders \u001b[39m=\u001b[39m _resolve_decoders_kwargs(\n\u001b[0;32m    528\u001b[0m     decode_cf,\n\u001b[0;32m    529\u001b[0m     open_backend_dataset_parameters\u001b[39m=\u001b[39mbackend\u001b[39m.\u001b[39mopen_dataset_parameters,\n\u001b[1;32m   (...)\u001b[0m\n\u001b[0;32m    535\u001b[0m     decode_coords\u001b[39m=\u001b[39mdecode_coords,\n\u001b[0;32m    536\u001b[0m )\n\u001b[0;32m    538\u001b[0m overwrite_encoded_chunks \u001b[39m=\u001b[39m kwargs\u001b[39m.\u001b[39mpop(\u001b[39m\"\u001b[39m\u001b[39moverwrite_encoded_chunks\u001b[39m\u001b[39m\"\u001b[39m, \u001b[39mNone\u001b[39;00m)\n\u001b[1;32m--> 539\u001b[0m backend_ds \u001b[39m=\u001b[39m backend\u001b[39m.\u001b[39mopen_dataset(\n\u001b[0;32m    540\u001b[0m     filename_or_obj,\n\u001b[0;32m    541\u001b[0m     drop_variables\u001b[39m=\u001b[39mdrop_variables,\n\u001b[0;32m    542\u001b[0m     \u001b[39m*\u001b[39m\u001b[39m*\u001b[39mdecoders,\n\u001b[0;32m    543\u001b[0m     \u001b[39m*\u001b[39m\u001b[39m*\u001b[39mkwargs,\n\u001b[0;32m    544\u001b[0m )\n\u001b[0;32m    545\u001b[0m ds \u001b[39m=\u001b[39m _dataset_from_backend_dataset(\n\u001b[0;32m    546\u001b[0m     backend_ds,\n\u001b[0;32m    547\u001b[0m     filename_or_obj,\n\u001b[1;32m   (...)\u001b[0m\n\u001b[0;32m    555\u001b[0m     \u001b[39m*\u001b[39m\u001b[39m*\u001b[39mkwargs,\n\u001b[0;32m    556\u001b[0m )\n\u001b[0;32m    557\u001b[0m \u001b[39mreturn\u001b[39;00m ds\n",
      "File \u001b[1;32mc:\\Users\\Mariel Jones\\anaconda3\\envs\\data\\lib\\site-packages\\xarray\\backends\\scipy_.py:303\u001b[0m, in \u001b[0;36mScipyBackendEntrypoint.open_dataset\u001b[1;34m(self, filename_or_obj, mask_and_scale, decode_times, concat_characters, decode_coords, drop_variables, use_cftime, decode_timedelta, mode, format, group, mmap, lock)\u001b[0m\n\u001b[0;32m    301\u001b[0m store_entrypoint \u001b[39m=\u001b[39m StoreBackendEntrypoint()\n\u001b[0;32m    302\u001b[0m \u001b[39mwith\u001b[39;00m close_on_error(store):\n\u001b[1;32m--> 303\u001b[0m     ds \u001b[39m=\u001b[39m store_entrypoint\u001b[39m.\u001b[39;49mopen_dataset(\n\u001b[0;32m    304\u001b[0m         store,\n\u001b[0;32m    305\u001b[0m         mask_and_scale\u001b[39m=\u001b[39;49mmask_and_scale,\n\u001b[0;32m    306\u001b[0m         decode_times\u001b[39m=\u001b[39;49mdecode_times,\n\u001b[0;32m    307\u001b[0m         concat_characters\u001b[39m=\u001b[39;49mconcat_characters,\n\u001b[0;32m    308\u001b[0m         decode_coords\u001b[39m=\u001b[39;49mdecode_coords,\n\u001b[0;32m    309\u001b[0m         drop_variables\u001b[39m=\u001b[39;49mdrop_variables,\n\u001b[0;32m    310\u001b[0m         use_cftime\u001b[39m=\u001b[39;49muse_cftime,\n\u001b[0;32m    311\u001b[0m         decode_timedelta\u001b[39m=\u001b[39;49mdecode_timedelta,\n\u001b[0;32m    312\u001b[0m     )\n\u001b[0;32m    313\u001b[0m \u001b[39mreturn\u001b[39;00m ds\n",
      "File \u001b[1;32mc:\\Users\\Mariel Jones\\anaconda3\\envs\\data\\lib\\site-packages\\xarray\\backends\\store.py:31\u001b[0m, in \u001b[0;36mStoreBackendEntrypoint.open_dataset\u001b[1;34m(self, store, mask_and_scale, decode_times, concat_characters, decode_coords, drop_variables, use_cftime, decode_timedelta)\u001b[0m\n\u001b[0;32m     28\u001b[0m \u001b[39mvars\u001b[39m, attrs \u001b[39m=\u001b[39m store\u001b[39m.\u001b[39mload()\n\u001b[0;32m     29\u001b[0m encoding \u001b[39m=\u001b[39m store\u001b[39m.\u001b[39mget_encoding()\n\u001b[1;32m---> 31\u001b[0m \u001b[39mvars\u001b[39m, attrs, coord_names \u001b[39m=\u001b[39m conventions\u001b[39m.\u001b[39;49mdecode_cf_variables(\n\u001b[0;32m     32\u001b[0m     \u001b[39mvars\u001b[39;49m,\n\u001b[0;32m     33\u001b[0m     attrs,\n\u001b[0;32m     34\u001b[0m     mask_and_scale\u001b[39m=\u001b[39;49mmask_and_scale,\n\u001b[0;32m     35\u001b[0m     decode_times\u001b[39m=\u001b[39;49mdecode_times,\n\u001b[0;32m     36\u001b[0m     concat_characters\u001b[39m=\u001b[39;49mconcat_characters,\n\u001b[0;32m     37\u001b[0m     decode_coords\u001b[39m=\u001b[39;49mdecode_coords,\n\u001b[0;32m     38\u001b[0m     drop_variables\u001b[39m=\u001b[39;49mdrop_variables,\n\u001b[0;32m     39\u001b[0m     use_cftime\u001b[39m=\u001b[39;49muse_cftime,\n\u001b[0;32m     40\u001b[0m     decode_timedelta\u001b[39m=\u001b[39;49mdecode_timedelta,\n\u001b[0;32m     41\u001b[0m )\n\u001b[0;32m     43\u001b[0m ds \u001b[39m=\u001b[39m Dataset(\u001b[39mvars\u001b[39m, attrs\u001b[39m=\u001b[39mattrs)\n\u001b[0;32m     44\u001b[0m ds \u001b[39m=\u001b[39m ds\u001b[39m.\u001b[39mset_coords(coord_names\u001b[39m.\u001b[39mintersection(\u001b[39mvars\u001b[39m))\n",
      "File \u001b[1;32mc:\\Users\\Mariel Jones\\anaconda3\\envs\\data\\lib\\site-packages\\xarray\\conventions.py:534\u001b[0m, in \u001b[0;36mdecode_cf_variables\u001b[1;34m(variables, attributes, concat_characters, mask_and_scale, decode_times, decode_coords, drop_variables, use_cftime, decode_timedelta)\u001b[0m\n\u001b[0;32m    523\u001b[0m     new_vars[k] \u001b[39m=\u001b[39m decode_cf_variable(\n\u001b[0;32m    524\u001b[0m         k,\n\u001b[0;32m    525\u001b[0m         v,\n\u001b[1;32m   (...)\u001b[0m\n\u001b[0;32m    531\u001b[0m         decode_timedelta\u001b[39m=\u001b[39mdecode_timedelta,\n\u001b[0;32m    532\u001b[0m     )\n\u001b[0;32m    533\u001b[0m \u001b[39mexcept\u001b[39;00m \u001b[39mException\u001b[39;00m \u001b[39mas\u001b[39;00m e:\n\u001b[1;32m--> 534\u001b[0m     \u001b[39mraise\u001b[39;00m \u001b[39mtype\u001b[39m(e)(\u001b[39mf\u001b[39m\u001b[39m\"\u001b[39m\u001b[39mFailed to decode variable \u001b[39m\u001b[39m{\u001b[39;00mk\u001b[39m!r}\u001b[39;00m\u001b[39m: \u001b[39m\u001b[39m{\u001b[39;00me\u001b[39m}\u001b[39;00m\u001b[39m\"\u001b[39m)\n\u001b[0;32m    535\u001b[0m \u001b[39mif\u001b[39;00m decode_coords \u001b[39min\u001b[39;00m [\u001b[39mTrue\u001b[39;00m, \u001b[39m\"\u001b[39m\u001b[39mcoordinates\u001b[39m\u001b[39m\"\u001b[39m, \u001b[39m\"\u001b[39m\u001b[39mall\u001b[39m\u001b[39m\"\u001b[39m]:\n\u001b[0;32m    536\u001b[0m     var_attrs \u001b[39m=\u001b[39m new_vars[k]\u001b[39m.\u001b[39mattrs\n",
      "\u001b[1;31mValueError\u001b[0m: Failed to decode variable 'time': unable to decode time units 'days since 2011-01-01 00:00:00' with \"calendar 'noleap'\". Try opening your dataset with decode_times=False or installing cftime if it is not installed."
     ]
    }
   ],
   "source": [
    "calib2011 = xr.open_dataset('MBP-TEST2.clm2.h1.2011-01-01-00000.nc',\n",
    " decode_timedelta = True,\n",
    " use_cftime = True)"
   ]
  },
  {
   "cell_type": "code",
   "execution_count": null,
   "metadata": {},
   "outputs": [],
   "source": []
  }
 ],
 "metadata": {
  "kernelspec": {
   "display_name": "data",
   "language": "python",
   "name": "python3"
  },
  "language_info": {
   "codemirror_mode": {
    "name": "ipython",
    "version": 3
   },
   "file_extension": ".py",
   "mimetype": "text/x-python",
   "name": "python",
   "nbconvert_exporter": "python",
   "pygments_lexer": "ipython3",
   "version": "3.10.8 | packaged by conda-forge | (main, Nov 24 2022, 14:07:00) [MSC v.1916 64 bit (AMD64)]"
  },
  "orig_nbformat": 4,
  "vscode": {
   "interpreter": {
    "hash": "3db0cc7d4d3b8175476740b2f587b11956bf0c9f67196da11a849266cd89a7a5"
   }
  }
 },
 "nbformat": 4,
 "nbformat_minor": 2
}
